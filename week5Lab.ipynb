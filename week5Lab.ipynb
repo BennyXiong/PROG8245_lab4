{
 "cells": [
  {
   "cell_type": "markdown",
   "metadata": {},
   "source": [
    "# Lab4 - Tidying, Cleaning, Imputation, and Outlier Detection\n",
    "* note: to test on a different machine, run ```pip install -r requirements.txt```"
   ]
  },
  {
   "attachments": {},
   "cell_type": "markdown",
   "metadata": {},
   "source": [
    "# **Tidying**"
   ]
  },
  {
   "attachments": {},
   "cell_type": "markdown",
   "metadata": {},
   "source": [
    "Part of the data engineering process is data cleaning and tidying. What is done in those two processes, is trying to make the data more readable, and complete. This makes much easier to analyze, visualize, and train the data.\n"
   ]
  },
  {
   "attachments": {},
   "cell_type": "markdown",
   "metadata": {},
   "source": [
    "## **Data Tidying**\n",
    "\n",
    "Making the data more organized, and readable is the result of applying data tidying. \n",
    "\n",
    "In this section two main pandas functions are used in data tidying those are `melt` and `pivot_table`."
   ]
  },
  {
   "attachments": {},
   "cell_type": "markdown",
   "metadata": {},
   "source": [
    "Let's start by taking a look at the below dataframe, which represents the income ranges based on religion. This is part of the PEW research, which is famous in the US for conducting pollings and surveys on citizens.\n",
    "\n",
    "When the following are satisfied:\n",
    "\n",
    "\n",
    "1. Each variable forms a column\n",
    "2. Each observation forms a row\n",
    "3. Each type of observational unit forms a table\n",
    "\n",
    "We can then say that our dataset is *tidy*.\n",
    "\n",
    "First we need to import pandas to read csv datasets."
   ]
  },
  {
   "cell_type": "code",
   "execution_count": 141,
   "metadata": {},
   "outputs": [],
   "source": [
    "import pandas as pd\n",
    "import numpy as np\n",
    "import sklearn\n",
    "import matplotlib.pyplot as plt\n",
    "import seaborn as sns"
   ]
  },
  {
   "attachments": {},
   "cell_type": "markdown",
   "metadata": {},
   "source": [
    "### **PEW Research Dataset**"
   ]
  },
  {
   "attachments": {},
   "cell_type": "markdown",
   "metadata": {},
   "source": [
    "1. Start by Importing the dataset into a pandas dataframe."
   ]
  },
  {
   "cell_type": "code",
   "execution_count": 142,
   "metadata": {},
   "outputs": [],
   "source": [
    "df = pd.read_csv('data/pew-raw.csv')"
   ]
  },
  {
   "attachments": {},
   "cell_type": "markdown",
   "metadata": {},
   "source": [
    "2. Observe the dataset using the `loc`, `iloc`, `head`, or `tail` approaches"
   ]
  },
  {
   "cell_type": "code",
   "execution_count": 143,
   "metadata": {},
   "outputs": [
    {
     "data": {
      "application/vnd.microsoft.datawrangler.viewer.v0+json": {
       "columns": [
        {
         "name": "index",
         "rawType": "int64",
         "type": "integer"
        },
        {
         "name": "religion",
         "rawType": "object",
         "type": "string"
        },
        {
         "name": " <$10k",
         "rawType": "int64",
         "type": "integer"
        },
        {
         "name": " $10-20k",
         "rawType": "int64",
         "type": "integer"
        },
        {
         "name": "$20-30k",
         "rawType": "int64",
         "type": "integer"
        },
        {
         "name": "$30-40k",
         "rawType": "int64",
         "type": "integer"
        },
        {
         "name": " $40-50k",
         "rawType": "int64",
         "type": "integer"
        },
        {
         "name": "$50-75k",
         "rawType": "int64",
         "type": "integer"
        }
       ],
       "ref": "5c77043c-087a-4b47-806f-355c84c878cc",
       "rows": [
        [
         "0",
         "Agnostic",
         "27",
         "34",
         "60",
         "81",
         "76",
         "137"
        ],
        [
         "1",
         "Atheist",
         "12",
         "27",
         "37",
         "52",
         "35",
         "70"
        ],
        [
         "2",
         "Buddhist",
         "27",
         "21",
         "30",
         "34",
         "33",
         "58"
        ],
        [
         "3",
         "Catholic",
         "418",
         "617",
         "732",
         "670",
         "638",
         "1116"
        ],
        [
         "4",
         "Dont know/refused",
         "15",
         "14",
         "15",
         "11",
         "10",
         "35"
        ]
       ],
       "shape": {
        "columns": 7,
        "rows": 5
       }
      },
      "text/html": [
       "<div>\n",
       "<style scoped>\n",
       "    .dataframe tbody tr th:only-of-type {\n",
       "        vertical-align: middle;\n",
       "    }\n",
       "\n",
       "    .dataframe tbody tr th {\n",
       "        vertical-align: top;\n",
       "    }\n",
       "\n",
       "    .dataframe thead th {\n",
       "        text-align: right;\n",
       "    }\n",
       "</style>\n",
       "<table border=\"1\" class=\"dataframe\">\n",
       "  <thead>\n",
       "    <tr style=\"text-align: right;\">\n",
       "      <th></th>\n",
       "      <th>religion</th>\n",
       "      <th>&lt;$10k</th>\n",
       "      <th>$10-20k</th>\n",
       "      <th>$20-30k</th>\n",
       "      <th>$30-40k</th>\n",
       "      <th>$40-50k</th>\n",
       "      <th>$50-75k</th>\n",
       "    </tr>\n",
       "  </thead>\n",
       "  <tbody>\n",
       "    <tr>\n",
       "      <th>0</th>\n",
       "      <td>Agnostic</td>\n",
       "      <td>27</td>\n",
       "      <td>34</td>\n",
       "      <td>60</td>\n",
       "      <td>81</td>\n",
       "      <td>76</td>\n",
       "      <td>137</td>\n",
       "    </tr>\n",
       "    <tr>\n",
       "      <th>1</th>\n",
       "      <td>Atheist</td>\n",
       "      <td>12</td>\n",
       "      <td>27</td>\n",
       "      <td>37</td>\n",
       "      <td>52</td>\n",
       "      <td>35</td>\n",
       "      <td>70</td>\n",
       "    </tr>\n",
       "    <tr>\n",
       "      <th>2</th>\n",
       "      <td>Buddhist</td>\n",
       "      <td>27</td>\n",
       "      <td>21</td>\n",
       "      <td>30</td>\n",
       "      <td>34</td>\n",
       "      <td>33</td>\n",
       "      <td>58</td>\n",
       "    </tr>\n",
       "    <tr>\n",
       "      <th>3</th>\n",
       "      <td>Catholic</td>\n",
       "      <td>418</td>\n",
       "      <td>617</td>\n",
       "      <td>732</td>\n",
       "      <td>670</td>\n",
       "      <td>638</td>\n",
       "      <td>1116</td>\n",
       "    </tr>\n",
       "    <tr>\n",
       "      <th>4</th>\n",
       "      <td>Dont know/refused</td>\n",
       "      <td>15</td>\n",
       "      <td>14</td>\n",
       "      <td>15</td>\n",
       "      <td>11</td>\n",
       "      <td>10</td>\n",
       "      <td>35</td>\n",
       "    </tr>\n",
       "  </tbody>\n",
       "</table>\n",
       "</div>"
      ],
      "text/plain": [
       "            religion   <$10k   $10-20k  $20-30k  $30-40k   $40-50k  $50-75k\n",
       "0           Agnostic      27        34       60       81        76      137\n",
       "1            Atheist      12        27       37       52        35       70\n",
       "2           Buddhist      27        21       30       34        33       58\n",
       "3           Catholic     418       617      732      670       638     1116\n",
       "4  Dont know/refused      15        14       15       11        10       35"
      ]
     },
     "execution_count": 143,
     "metadata": {},
     "output_type": "execute_result"
    }
   ],
   "source": [
    "# show top 5 rows\n",
    "df.head()"
   ]
  },
  {
   "cell_type": "code",
   "execution_count": 144,
   "metadata": {},
   "outputs": [
    {
     "data": {
      "application/vnd.microsoft.datawrangler.viewer.v0+json": {
       "columns": [
        {
         "name": "index",
         "rawType": "object",
         "type": "string"
        },
        {
         "name": " <$10k",
         "rawType": "float64",
         "type": "float"
        },
        {
         "name": " $10-20k",
         "rawType": "float64",
         "type": "float"
        },
        {
         "name": "$20-30k",
         "rawType": "float64",
         "type": "float"
        },
        {
         "name": "$30-40k",
         "rawType": "float64",
         "type": "float"
        },
        {
         "name": " $40-50k",
         "rawType": "float64",
         "type": "float"
        },
        {
         "name": "$50-75k",
         "rawType": "float64",
         "type": "float"
        }
       ],
       "ref": "070b14b7-8bc8-4232-a97a-de3e36134710",
       "rows": [
        [
         "count",
         "10.0",
         "10.0",
         "10.0",
         "10.0",
         "10.0",
         "10.0"
        ],
        [
         "mean",
         "134.2",
         "188.1",
         "223.0",
         "212.6",
         "193.2",
         "328.4"
        ],
        [
         "std",
         "205.43330899453585",
         "306.4606010566448",
         "370.23566068714183",
         "338.24783813056365",
         "308.83357618267115",
         "523.2647938132704"
        ],
        [
         "min",
         "1.0",
         "9.0",
         "7.0",
         "9.0",
         "10.0",
         "30.0"
        ],
        [
         "25%",
         "16.0",
         "19.5",
         "24.25",
         "24.25",
         "23.25",
         "40.75"
        ],
        [
         "50%",
         "23.5",
         "27.0",
         "33.5",
         "43.0",
         "34.0",
         "82.5"
        ],
        [
         "75%",
         "177.75",
         "191.5",
         "192.0",
         "198.75",
         "166.75",
         "201.5"
        ],
        [
         "max",
         "575.0",
         "869.0",
         "1064.0",
         "982.0",
         "881.0",
         "1486.0"
        ]
       ],
       "shape": {
        "columns": 6,
        "rows": 8
       }
      },
      "text/html": [
       "<div>\n",
       "<style scoped>\n",
       "    .dataframe tbody tr th:only-of-type {\n",
       "        vertical-align: middle;\n",
       "    }\n",
       "\n",
       "    .dataframe tbody tr th {\n",
       "        vertical-align: top;\n",
       "    }\n",
       "\n",
       "    .dataframe thead th {\n",
       "        text-align: right;\n",
       "    }\n",
       "</style>\n",
       "<table border=\"1\" class=\"dataframe\">\n",
       "  <thead>\n",
       "    <tr style=\"text-align: right;\">\n",
       "      <th></th>\n",
       "      <th>&lt;$10k</th>\n",
       "      <th>$10-20k</th>\n",
       "      <th>$20-30k</th>\n",
       "      <th>$30-40k</th>\n",
       "      <th>$40-50k</th>\n",
       "      <th>$50-75k</th>\n",
       "    </tr>\n",
       "  </thead>\n",
       "  <tbody>\n",
       "    <tr>\n",
       "      <th>count</th>\n",
       "      <td>10.000000</td>\n",
       "      <td>10.000000</td>\n",
       "      <td>10.000000</td>\n",
       "      <td>10.000000</td>\n",
       "      <td>10.000000</td>\n",
       "      <td>10.000000</td>\n",
       "    </tr>\n",
       "    <tr>\n",
       "      <th>mean</th>\n",
       "      <td>134.200000</td>\n",
       "      <td>188.100000</td>\n",
       "      <td>223.000000</td>\n",
       "      <td>212.600000</td>\n",
       "      <td>193.200000</td>\n",
       "      <td>328.400000</td>\n",
       "    </tr>\n",
       "    <tr>\n",
       "      <th>std</th>\n",
       "      <td>205.433309</td>\n",
       "      <td>306.460601</td>\n",
       "      <td>370.235661</td>\n",
       "      <td>338.247838</td>\n",
       "      <td>308.833576</td>\n",
       "      <td>523.264794</td>\n",
       "    </tr>\n",
       "    <tr>\n",
       "      <th>min</th>\n",
       "      <td>1.000000</td>\n",
       "      <td>9.000000</td>\n",
       "      <td>7.000000</td>\n",
       "      <td>9.000000</td>\n",
       "      <td>10.000000</td>\n",
       "      <td>30.000000</td>\n",
       "    </tr>\n",
       "    <tr>\n",
       "      <th>25%</th>\n",
       "      <td>16.000000</td>\n",
       "      <td>19.500000</td>\n",
       "      <td>24.250000</td>\n",
       "      <td>24.250000</td>\n",
       "      <td>23.250000</td>\n",
       "      <td>40.750000</td>\n",
       "    </tr>\n",
       "    <tr>\n",
       "      <th>50%</th>\n",
       "      <td>23.500000</td>\n",
       "      <td>27.000000</td>\n",
       "      <td>33.500000</td>\n",
       "      <td>43.000000</td>\n",
       "      <td>34.000000</td>\n",
       "      <td>82.500000</td>\n",
       "    </tr>\n",
       "    <tr>\n",
       "      <th>75%</th>\n",
       "      <td>177.750000</td>\n",
       "      <td>191.500000</td>\n",
       "      <td>192.000000</td>\n",
       "      <td>198.750000</td>\n",
       "      <td>166.750000</td>\n",
       "      <td>201.500000</td>\n",
       "    </tr>\n",
       "    <tr>\n",
       "      <th>max</th>\n",
       "      <td>575.000000</td>\n",
       "      <td>869.000000</td>\n",
       "      <td>1064.000000</td>\n",
       "      <td>982.000000</td>\n",
       "      <td>881.000000</td>\n",
       "      <td>1486.000000</td>\n",
       "    </tr>\n",
       "  </tbody>\n",
       "</table>\n",
       "</div>"
      ],
      "text/plain": [
       "            <$10k     $10-20k      $20-30k     $30-40k     $40-50k  \\\n",
       "count   10.000000   10.000000    10.000000   10.000000   10.000000   \n",
       "mean   134.200000  188.100000   223.000000  212.600000  193.200000   \n",
       "std    205.433309  306.460601   370.235661  338.247838  308.833576   \n",
       "min      1.000000    9.000000     7.000000    9.000000   10.000000   \n",
       "25%     16.000000   19.500000    24.250000   24.250000   23.250000   \n",
       "50%     23.500000   27.000000    33.500000   43.000000   34.000000   \n",
       "75%    177.750000  191.500000   192.000000  198.750000  166.750000   \n",
       "max    575.000000  869.000000  1064.000000  982.000000  881.000000   \n",
       "\n",
       "           $50-75k  \n",
       "count    10.000000  \n",
       "mean    328.400000  \n",
       "std     523.264794  \n",
       "min      30.000000  \n",
       "25%      40.750000  \n",
       "50%      82.500000  \n",
       "75%     201.500000  \n",
       "max    1486.000000  "
      ]
     },
     "execution_count": 144,
     "metadata": {},
     "output_type": "execute_result"
    }
   ],
   "source": [
    "# show statistics data\n",
    "df.describe()"
   ]
  },
  {
   "cell_type": "code",
   "execution_count": 145,
   "metadata": {},
   "outputs": [
    {
     "name": "stdout",
     "output_type": "stream",
     "text": [
      "<class 'pandas.core.frame.DataFrame'>\n",
      "RangeIndex: 10 entries, 0 to 9\n",
      "Data columns (total 7 columns):\n",
      " #   Column    Non-Null Count  Dtype \n",
      "---  ------    --------------  ----- \n",
      " 0   religion  10 non-null     object\n",
      " 1    <$10k    10 non-null     int64 \n",
      " 2    $10-20k  10 non-null     int64 \n",
      " 3   $20-30k   10 non-null     int64 \n",
      " 4   $30-40k   10 non-null     int64 \n",
      " 5    $40-50k  10 non-null     int64 \n",
      " 6   $50-75k   10 non-null     int64 \n",
      "dtypes: int64(6), object(1)\n",
      "memory usage: 692.0+ bytes\n"
     ]
    }
   ],
   "source": [
    "# show meta data\n",
    "df.info()"
   ]
  },
  {
   "attachments": {},
   "cell_type": "markdown",
   "metadata": {},
   "source": [
    "***What does not seem right in the above dataframe?***\n",
    "* The column name format is not consistent, e.g \"<$10k\" and \"$10-20k\"\n",
    "* The data type of the column \"religion\" is object\n",
    "* Except column 'religion', the rest of the columns could be just one feature"
   ]
  },
  {
   "attachments": {},
   "cell_type": "markdown",
   "metadata": {},
   "source": [
    "3. Try to make the column headers represent a variable not a value. For that, use the `melt` function."
   ]
  },
  {
   "cell_type": "code",
   "execution_count": 146,
   "metadata": {},
   "outputs": [
    {
     "data": {
      "application/vnd.microsoft.datawrangler.viewer.v0+json": {
       "columns": [
        {
         "name": "index",
         "rawType": "int64",
         "type": "integer"
        },
        {
         "name": "religion",
         "rawType": "object",
         "type": "string"
        },
        {
         "name": "income_range",
         "rawType": "object",
         "type": "string"
        },
        {
         "name": "citizens_count",
         "rawType": "int64",
         "type": "integer"
        }
       ],
       "ref": "98c6e8d2-227f-486d-b1b0-0b30f4d73ee6",
       "rows": [
        [
         "0",
         "Agnostic",
         " <$10k",
         "27"
        ],
        [
         "1",
         "Atheist",
         " <$10k",
         "12"
        ],
        [
         "2",
         "Buddhist",
         " <$10k",
         "27"
        ],
        [
         "3",
         "Catholic",
         " <$10k",
         "418"
        ],
        [
         "4",
         "Dont know/refused",
         " <$10k",
         "15"
        ]
       ],
       "shape": {
        "columns": 3,
        "rows": 5
       }
      },
      "text/html": [
       "<div>\n",
       "<style scoped>\n",
       "    .dataframe tbody tr th:only-of-type {\n",
       "        vertical-align: middle;\n",
       "    }\n",
       "\n",
       "    .dataframe tbody tr th {\n",
       "        vertical-align: top;\n",
       "    }\n",
       "\n",
       "    .dataframe thead th {\n",
       "        text-align: right;\n",
       "    }\n",
       "</style>\n",
       "<table border=\"1\" class=\"dataframe\">\n",
       "  <thead>\n",
       "    <tr style=\"text-align: right;\">\n",
       "      <th></th>\n",
       "      <th>religion</th>\n",
       "      <th>income_range</th>\n",
       "      <th>citizens_count</th>\n",
       "    </tr>\n",
       "  </thead>\n",
       "  <tbody>\n",
       "    <tr>\n",
       "      <th>0</th>\n",
       "      <td>Agnostic</td>\n",
       "      <td>&lt;$10k</td>\n",
       "      <td>27</td>\n",
       "    </tr>\n",
       "    <tr>\n",
       "      <th>1</th>\n",
       "      <td>Atheist</td>\n",
       "      <td>&lt;$10k</td>\n",
       "      <td>12</td>\n",
       "    </tr>\n",
       "    <tr>\n",
       "      <th>2</th>\n",
       "      <td>Buddhist</td>\n",
       "      <td>&lt;$10k</td>\n",
       "      <td>27</td>\n",
       "    </tr>\n",
       "    <tr>\n",
       "      <th>3</th>\n",
       "      <td>Catholic</td>\n",
       "      <td>&lt;$10k</td>\n",
       "      <td>418</td>\n",
       "    </tr>\n",
       "    <tr>\n",
       "      <th>4</th>\n",
       "      <td>Dont know/refused</td>\n",
       "      <td>&lt;$10k</td>\n",
       "      <td>15</td>\n",
       "    </tr>\n",
       "  </tbody>\n",
       "</table>\n",
       "</div>"
      ],
      "text/plain": [
       "            religion income_range  citizens_count\n",
       "0           Agnostic        <$10k              27\n",
       "1            Atheist        <$10k              12\n",
       "2           Buddhist        <$10k              27\n",
       "3           Catholic        <$10k             418\n",
       "4  Dont know/refused        <$10k              15"
      ]
     },
     "execution_count": 146,
     "metadata": {},
     "output_type": "execute_result"
    }
   ],
   "source": [
    "# convert the dataframe to a new one by making all the column headers exept 'religion\" to be feature \"income_range\", and the values to be feature 'citizens_count'\n",
    "df_pew_tidy = pd.melt(df, id_vars=['religion'], var_name='income_range',value_name='citizens_count')\n",
    "df_pew_tidy.head()"
   ]
  },
  {
   "cell_type": "code",
   "execution_count": 147,
   "metadata": {},
   "outputs": [
    {
     "data": {
      "application/vnd.microsoft.datawrangler.viewer.v0+json": {
       "columns": [
        {
         "name": "index",
         "rawType": "int64",
         "type": "integer"
        },
        {
         "name": "religion",
         "rawType": "object",
         "type": "string"
        },
        {
         "name": "income_range",
         "rawType": "object",
         "type": "string"
        },
        {
         "name": "citizens_count",
         "rawType": "int64",
         "type": "integer"
        }
       ],
       "ref": "bb990996-cec4-4fe3-a325-bcabbfd0ed57",
       "rows": [
        [
         "0",
         "Agnostic",
         "0-10",
         "27"
        ],
        [
         "1",
         "Atheist",
         "0-10",
         "12"
        ],
        [
         "2",
         "Buddhist",
         "0-10",
         "27"
        ],
        [
         "3",
         "Catholic",
         "0-10",
         "418"
        ],
        [
         "4",
         "Dont know/refused",
         "0-10",
         "15"
        ]
       ],
       "shape": {
        "columns": 3,
        "rows": 5
       }
      },
      "text/html": [
       "<div>\n",
       "<style scoped>\n",
       "    .dataframe tbody tr th:only-of-type {\n",
       "        vertical-align: middle;\n",
       "    }\n",
       "\n",
       "    .dataframe tbody tr th {\n",
       "        vertical-align: top;\n",
       "    }\n",
       "\n",
       "    .dataframe thead th {\n",
       "        text-align: right;\n",
       "    }\n",
       "</style>\n",
       "<table border=\"1\" class=\"dataframe\">\n",
       "  <thead>\n",
       "    <tr style=\"text-align: right;\">\n",
       "      <th></th>\n",
       "      <th>religion</th>\n",
       "      <th>income_range</th>\n",
       "      <th>citizens_count</th>\n",
       "    </tr>\n",
       "  </thead>\n",
       "  <tbody>\n",
       "    <tr>\n",
       "      <th>0</th>\n",
       "      <td>Agnostic</td>\n",
       "      <td>0-10</td>\n",
       "      <td>27</td>\n",
       "    </tr>\n",
       "    <tr>\n",
       "      <th>1</th>\n",
       "      <td>Atheist</td>\n",
       "      <td>0-10</td>\n",
       "      <td>12</td>\n",
       "    </tr>\n",
       "    <tr>\n",
       "      <th>2</th>\n",
       "      <td>Buddhist</td>\n",
       "      <td>0-10</td>\n",
       "      <td>27</td>\n",
       "    </tr>\n",
       "    <tr>\n",
       "      <th>3</th>\n",
       "      <td>Catholic</td>\n",
       "      <td>0-10</td>\n",
       "      <td>418</td>\n",
       "    </tr>\n",
       "    <tr>\n",
       "      <th>4</th>\n",
       "      <td>Dont know/refused</td>\n",
       "      <td>0-10</td>\n",
       "      <td>15</td>\n",
       "    </tr>\n",
       "  </tbody>\n",
       "</table>\n",
       "</div>"
      ],
      "text/plain": [
       "            religion income_range  citizens_count\n",
       "0           Agnostic         0-10              27\n",
       "1            Atheist         0-10              12\n",
       "2           Buddhist         0-10              27\n",
       "3           Catholic         0-10             418\n",
       "4  Dont know/refused         0-10              15"
      ]
     },
     "execution_count": 147,
     "metadata": {},
     "output_type": "execute_result"
    }
   ],
   "source": [
    "# replace income_range '<$10k\" to be '$0-10k' so that it's consistent with other income_range\n",
    "df_pew_tidy['income_range'] = df_pew_tidy['income_range'].str.replace(\"<$10\", \" $0-10k\")\n",
    "# remove space, $ and k from income_range values\n",
    "df_pew_tidy['income_range'] = df_pew_tidy['income_range'].str.replace(' ', '')\n",
    "df_pew_tidy['income_range'] = df_pew_tidy['income_range'].str.replace('$','')\n",
    "df_pew_tidy['income_range'] = df_pew_tidy['income_range'].str.replace('k','')\n",
    "# show the top 5 rows of the updated dataframe\n",
    "df_pew_tidy.head()"
   ]
  },
  {
   "cell_type": "code",
   "execution_count": 148,
   "metadata": {},
   "outputs": [
    {
     "data": {
      "application/vnd.microsoft.datawrangler.viewer.v0+json": {
       "columns": [
        {
         "name": "index",
         "rawType": "int64",
         "type": "integer"
        },
        {
         "name": "religion",
         "rawType": "object",
         "type": "string"
        },
        {
         "name": "income_range",
         "rawType": "object",
         "type": "string"
        },
        {
         "name": "citizens_count",
         "rawType": "int64",
         "type": "integer"
        },
        {
         "name": "min_income",
         "rawType": "int64",
         "type": "integer"
        },
        {
         "name": "max_income",
         "rawType": "int64",
         "type": "integer"
        }
       ],
       "ref": "4b248212-81a0-4456-870d-5949ba6ad031",
       "rows": [
        [
         "0",
         "Agnostic",
         "0-10",
         "27",
         "0",
         "10"
        ],
        [
         "1",
         "Atheist",
         "0-10",
         "12",
         "0",
         "10"
        ],
        [
         "2",
         "Buddhist",
         "0-10",
         "27",
         "0",
         "10"
        ],
        [
         "3",
         "Catholic",
         "0-10",
         "418",
         "0",
         "10"
        ],
        [
         "4",
         "Dont know/refused",
         "0-10",
         "15",
         "0",
         "10"
        ]
       ],
       "shape": {
        "columns": 5,
        "rows": 5
       }
      },
      "text/html": [
       "<div>\n",
       "<style scoped>\n",
       "    .dataframe tbody tr th:only-of-type {\n",
       "        vertical-align: middle;\n",
       "    }\n",
       "\n",
       "    .dataframe tbody tr th {\n",
       "        vertical-align: top;\n",
       "    }\n",
       "\n",
       "    .dataframe thead th {\n",
       "        text-align: right;\n",
       "    }\n",
       "</style>\n",
       "<table border=\"1\" class=\"dataframe\">\n",
       "  <thead>\n",
       "    <tr style=\"text-align: right;\">\n",
       "      <th></th>\n",
       "      <th>religion</th>\n",
       "      <th>income_range</th>\n",
       "      <th>citizens_count</th>\n",
       "      <th>min_income</th>\n",
       "      <th>max_income</th>\n",
       "    </tr>\n",
       "  </thead>\n",
       "  <tbody>\n",
       "    <tr>\n",
       "      <th>0</th>\n",
       "      <td>Agnostic</td>\n",
       "      <td>0-10</td>\n",
       "      <td>27</td>\n",
       "      <td>0</td>\n",
       "      <td>10</td>\n",
       "    </tr>\n",
       "    <tr>\n",
       "      <th>1</th>\n",
       "      <td>Atheist</td>\n",
       "      <td>0-10</td>\n",
       "      <td>12</td>\n",
       "      <td>0</td>\n",
       "      <td>10</td>\n",
       "    </tr>\n",
       "    <tr>\n",
       "      <th>2</th>\n",
       "      <td>Buddhist</td>\n",
       "      <td>0-10</td>\n",
       "      <td>27</td>\n",
       "      <td>0</td>\n",
       "      <td>10</td>\n",
       "    </tr>\n",
       "    <tr>\n",
       "      <th>3</th>\n",
       "      <td>Catholic</td>\n",
       "      <td>0-10</td>\n",
       "      <td>418</td>\n",
       "      <td>0</td>\n",
       "      <td>10</td>\n",
       "    </tr>\n",
       "    <tr>\n",
       "      <th>4</th>\n",
       "      <td>Dont know/refused</td>\n",
       "      <td>0-10</td>\n",
       "      <td>15</td>\n",
       "      <td>0</td>\n",
       "      <td>10</td>\n",
       "    </tr>\n",
       "  </tbody>\n",
       "</table>\n",
       "</div>"
      ],
      "text/plain": [
       "            religion income_range  citizens_count  min_income  max_income\n",
       "0           Agnostic         0-10              27           0          10\n",
       "1            Atheist         0-10              12           0          10\n",
       "2           Buddhist         0-10              27           0          10\n",
       "3           Catholic         0-10             418           0          10\n",
       "4  Dont know/refused         0-10              15           0          10"
      ]
     },
     "execution_count": 148,
     "metadata": {},
     "output_type": "execute_result"
    }
   ],
   "source": [
    "# add column min_income to be the value before '-', and max_income the value after '-' of the income_range\n",
    "df_pew_tidy['min_income']=np.array(df_pew_tidy['income_range'].str.split('-').to_list())[:,0].astype(int)\n",
    "df_pew_tidy['max_income']=np.array(df_pew_tidy['income_range'].str.split('-').to_list())[:,1].astype(int)\n",
    "df_pew_tidy.head()"
   ]
  },
  {
   "attachments": {},
   "cell_type": "markdown",
   "metadata": {},
   "source": [
    "### **Billboard Dataset**"
   ]
  },
  {
   "attachments": {},
   "cell_type": "markdown",
   "metadata": {},
   "source": [
    "This dataset outlines data about the top hit songs on the Billboard list and the week from entrance that it was in the billboard with the ranking."
   ]
  },
  {
   "attachments": {},
   "cell_type": "markdown",
   "metadata": {},
   "source": [
    "1. Read the dataset and store it in a pandas dataframe. Note that the usual utf-8 encoding does not work on this dataset. The reason behind this is that there might be characters that are not supported by `utf-8`. The suggestion is to use for this dataset `unicode_escape` encoding. (converts all non-ASCII characters into their \\uXXXX representations)"
   ]
  },
  {
   "cell_type": "code",
   "execution_count": 149,
   "metadata": {},
   "outputs": [],
   "source": [
    "# read csv data using encoding unicode_escape into df_billboard\n",
    "df_billboard = pd.read_csv('./data/billboard.csv', encoding='unicode_escape')"
   ]
  },
  {
   "attachments": {},
   "cell_type": "markdown",
   "metadata": {},
   "source": [
    "2. Observe the first few rows of the dataset."
   ]
  },
  {
   "cell_type": "code",
   "execution_count": 150,
   "metadata": {},
   "outputs": [
    {
     "data": {
      "application/vnd.microsoft.datawrangler.viewer.v0+json": {
       "columns": [
        {
         "name": "index",
         "rawType": "int64",
         "type": "integer"
        },
        {
         "name": "year",
         "rawType": "int64",
         "type": "integer"
        },
        {
         "name": "artist.inverted",
         "rawType": "object",
         "type": "string"
        },
        {
         "name": "track",
         "rawType": "object",
         "type": "string"
        },
        {
         "name": "time",
         "rawType": "object",
         "type": "string"
        },
        {
         "name": "genre",
         "rawType": "object",
         "type": "string"
        },
        {
         "name": "date.entered",
         "rawType": "object",
         "type": "string"
        },
        {
         "name": "date.peaked",
         "rawType": "object",
         "type": "string"
        },
        {
         "name": "x1st.week",
         "rawType": "int64",
         "type": "integer"
        },
        {
         "name": "x2nd.week",
         "rawType": "float64",
         "type": "float"
        },
        {
         "name": "x3rd.week",
         "rawType": "float64",
         "type": "float"
        },
        {
         "name": "x4th.week",
         "rawType": "float64",
         "type": "float"
        },
        {
         "name": "x5th.week",
         "rawType": "float64",
         "type": "float"
        },
        {
         "name": "x6th.week",
         "rawType": "float64",
         "type": "float"
        },
        {
         "name": "x7th.week",
         "rawType": "float64",
         "type": "float"
        },
        {
         "name": "x8th.week",
         "rawType": "float64",
         "type": "float"
        },
        {
         "name": "x9th.week",
         "rawType": "float64",
         "type": "float"
        },
        {
         "name": "x10th.week",
         "rawType": "float64",
         "type": "float"
        },
        {
         "name": "x11th.week",
         "rawType": "float64",
         "type": "float"
        },
        {
         "name": "x12th.week",
         "rawType": "float64",
         "type": "float"
        },
        {
         "name": "x13th.week",
         "rawType": "float64",
         "type": "float"
        },
        {
         "name": "x14th.week",
         "rawType": "float64",
         "type": "float"
        },
        {
         "name": "x15th.week",
         "rawType": "float64",
         "type": "float"
        },
        {
         "name": "x16th.week",
         "rawType": "float64",
         "type": "float"
        },
        {
         "name": "x17th.week",
         "rawType": "float64",
         "type": "float"
        },
        {
         "name": "x18th.week",
         "rawType": "float64",
         "type": "float"
        },
        {
         "name": "x19th.week",
         "rawType": "float64",
         "type": "float"
        },
        {
         "name": "x20th.week",
         "rawType": "float64",
         "type": "float"
        },
        {
         "name": "x21st.week",
         "rawType": "float64",
         "type": "float"
        },
        {
         "name": "x22nd.week",
         "rawType": "float64",
         "type": "float"
        },
        {
         "name": "x23rd.week",
         "rawType": "float64",
         "type": "float"
        },
        {
         "name": "x24th.week",
         "rawType": "float64",
         "type": "float"
        },
        {
         "name": "x25th.week",
         "rawType": "float64",
         "type": "float"
        },
        {
         "name": "x26th.week",
         "rawType": "float64",
         "type": "float"
        },
        {
         "name": "x27th.week",
         "rawType": "float64",
         "type": "float"
        },
        {
         "name": "x28th.week",
         "rawType": "float64",
         "type": "float"
        },
        {
         "name": "x29th.week",
         "rawType": "float64",
         "type": "float"
        },
        {
         "name": "x30th.week",
         "rawType": "float64",
         "type": "float"
        },
        {
         "name": "x31st.week",
         "rawType": "float64",
         "type": "float"
        },
        {
         "name": "x32nd.week",
         "rawType": "float64",
         "type": "float"
        },
        {
         "name": "x33rd.week",
         "rawType": "float64",
         "type": "float"
        },
        {
         "name": "x34th.week",
         "rawType": "float64",
         "type": "float"
        },
        {
         "name": "x35th.week",
         "rawType": "float64",
         "type": "float"
        },
        {
         "name": "x36th.week",
         "rawType": "float64",
         "type": "float"
        },
        {
         "name": "x37th.week",
         "rawType": "float64",
         "type": "float"
        },
        {
         "name": "x38th.week",
         "rawType": "float64",
         "type": "float"
        },
        {
         "name": "x39th.week",
         "rawType": "float64",
         "type": "float"
        },
        {
         "name": "x40th.week",
         "rawType": "float64",
         "type": "float"
        },
        {
         "name": "x41st.week",
         "rawType": "float64",
         "type": "float"
        },
        {
         "name": "x42nd.week",
         "rawType": "float64",
         "type": "float"
        },
        {
         "name": "x43rd.week",
         "rawType": "float64",
         "type": "float"
        },
        {
         "name": "x44th.week",
         "rawType": "float64",
         "type": "float"
        },
        {
         "name": "x45th.week",
         "rawType": "float64",
         "type": "float"
        },
        {
         "name": "x46th.week",
         "rawType": "float64",
         "type": "float"
        },
        {
         "name": "x47th.week",
         "rawType": "float64",
         "type": "float"
        },
        {
         "name": "x48th.week",
         "rawType": "float64",
         "type": "float"
        },
        {
         "name": "x49th.week",
         "rawType": "float64",
         "type": "float"
        },
        {
         "name": "x50th.week",
         "rawType": "float64",
         "type": "float"
        },
        {
         "name": "x51st.week",
         "rawType": "float64",
         "type": "float"
        },
        {
         "name": "x52nd.week",
         "rawType": "float64",
         "type": "float"
        },
        {
         "name": "x53rd.week",
         "rawType": "float64",
         "type": "float"
        },
        {
         "name": "x54th.week",
         "rawType": "float64",
         "type": "float"
        },
        {
         "name": "x55th.week",
         "rawType": "float64",
         "type": "float"
        },
        {
         "name": "x56th.week",
         "rawType": "float64",
         "type": "float"
        },
        {
         "name": "x57th.week",
         "rawType": "float64",
         "type": "float"
        },
        {
         "name": "x58th.week",
         "rawType": "float64",
         "type": "float"
        },
        {
         "name": "x59th.week",
         "rawType": "float64",
         "type": "float"
        },
        {
         "name": "x60th.week",
         "rawType": "float64",
         "type": "float"
        },
        {
         "name": "x61st.week",
         "rawType": "float64",
         "type": "float"
        },
        {
         "name": "x62nd.week",
         "rawType": "float64",
         "type": "float"
        },
        {
         "name": "x63rd.week",
         "rawType": "float64",
         "type": "float"
        },
        {
         "name": "x64th.week",
         "rawType": "float64",
         "type": "float"
        },
        {
         "name": "x65th.week",
         "rawType": "float64",
         "type": "float"
        },
        {
         "name": "x66th.week",
         "rawType": "float64",
         "type": "float"
        },
        {
         "name": "x67th.week",
         "rawType": "float64",
         "type": "float"
        },
        {
         "name": "x68th.week",
         "rawType": "float64",
         "type": "float"
        },
        {
         "name": "x69th.week",
         "rawType": "float64",
         "type": "float"
        },
        {
         "name": "x70th.week",
         "rawType": "float64",
         "type": "float"
        },
        {
         "name": "x71st.week",
         "rawType": "float64",
         "type": "float"
        },
        {
         "name": "x72nd.week",
         "rawType": "float64",
         "type": "float"
        },
        {
         "name": "x73rd.week",
         "rawType": "float64",
         "type": "float"
        },
        {
         "name": "x74th.week",
         "rawType": "float64",
         "type": "float"
        },
        {
         "name": "x75th.week",
         "rawType": "float64",
         "type": "float"
        },
        {
         "name": "x76th.week",
         "rawType": "float64",
         "type": "float"
        }
       ],
       "ref": "ef678d3e-bb42-47f0-9488-924f4dd76913",
       "rows": [
        [
         "0",
         "2000",
         "Destiny's Child",
         "Independent Women Part I",
         "3:38",
         "Rock",
         "2000-09-23",
         "2000-11-18",
         "78",
         "63.0",
         "49.0",
         "33.0",
         "23.0",
         "15.0",
         "7.0",
         "5.0",
         "1.0",
         "1.0",
         "1.0",
         "1.0",
         "1.0",
         "1.0",
         "1.0",
         "1.0",
         "1.0",
         "1.0",
         "1.0",
         "2.0",
         "3.0",
         "7.0",
         "10.0",
         "12.0",
         "15.0",
         "22.0",
         "29.0",
         "31.0",
         null,
         null,
         null,
         null,
         null,
         null,
         null,
         null,
         null,
         null,
         null,
         null,
         null,
         null,
         null,
         null,
         null,
         null,
         null,
         null,
         null,
         null,
         null,
         null,
         null,
         null,
         null,
         null,
         null,
         null,
         null,
         null,
         null,
         null,
         null,
         null,
         null,
         null,
         null,
         null,
         null,
         null,
         null,
         null,
         null,
         null,
         null,
         null
        ],
        [
         "1",
         "2000",
         "Santana",
         "Maria, Maria",
         "4:18",
         "Rock",
         "2000-02-12",
         "2000-04-08",
         "15",
         "8.0",
         "6.0",
         "5.0",
         "2.0",
         "3.0",
         "2.0",
         "2.0",
         "1.0",
         "1.0",
         "1.0",
         "1.0",
         "1.0",
         "1.0",
         "1.0",
         "1.0",
         "1.0",
         "1.0",
         "8.0",
         "15.0",
         "19.0",
         "21.0",
         "26.0",
         "36.0",
         "48.0",
         "47.0",
         null,
         null,
         null,
         null,
         null,
         null,
         null,
         null,
         null,
         null,
         null,
         null,
         null,
         null,
         null,
         null,
         null,
         null,
         null,
         null,
         null,
         null,
         null,
         null,
         null,
         null,
         null,
         null,
         null,
         null,
         null,
         null,
         null,
         null,
         null,
         null,
         null,
         null,
         null,
         null,
         null,
         null,
         null,
         null,
         null,
         null,
         null,
         null,
         null,
         null
        ],
        [
         "2",
         "2000",
         "Savage Garden",
         "I Knew I Loved You",
         "4:07",
         "Rock",
         "1999-10-23",
         "2000-01-29",
         "71",
         "48.0",
         "43.0",
         "31.0",
         "20.0",
         "13.0",
         "7.0",
         "6.0",
         "4.0",
         "4.0",
         "4.0",
         "6.0",
         "4.0",
         "2.0",
         "1.0",
         "1.0",
         "1.0",
         "2.0",
         "1.0",
         "2.0",
         "4.0",
         "8.0",
         "8.0",
         "12.0",
         "14.0",
         "17.0",
         "21.0",
         "24.0",
         "30.0",
         "34.0",
         "37.0",
         "46.0",
         "47.0",
         null,
         null,
         null,
         null,
         null,
         null,
         null,
         null,
         null,
         null,
         null,
         null,
         null,
         null,
         null,
         null,
         null,
         null,
         null,
         null,
         null,
         null,
         null,
         null,
         null,
         null,
         null,
         null,
         null,
         null,
         null,
         null,
         null,
         null,
         null,
         null,
         null,
         null,
         null,
         null,
         null,
         null,
         null
        ],
        [
         "3",
         "2000",
         "Madonna",
         "Music",
         "3:45",
         "Rock",
         "2000-08-12",
         "2000-09-16",
         "41",
         "23.0",
         "18.0",
         "14.0",
         "2.0",
         "1.0",
         "1.0",
         "1.0",
         "1.0",
         "2.0",
         "2.0",
         "2.0",
         "2.0",
         "2.0",
         "4.0",
         "8.0",
         "11.0",
         "16.0",
         "20.0",
         "25.0",
         "27.0",
         "27.0",
         "29.0",
         "44.0",
         null,
         null,
         null,
         null,
         null,
         null,
         null,
         null,
         null,
         null,
         null,
         null,
         null,
         null,
         null,
         null,
         null,
         null,
         null,
         null,
         null,
         null,
         null,
         null,
         null,
         null,
         null,
         null,
         null,
         null,
         null,
         null,
         null,
         null,
         null,
         null,
         null,
         null,
         null,
         null,
         null,
         null,
         null,
         null,
         null,
         null,
         null,
         null,
         null,
         null,
         null,
         null
        ],
        [
         "4",
         "2000",
         "Aguilera, Christina",
         "Come On Over Baby (All I Want Is You)",
         "3:38",
         "Rock",
         "2000-08-05",
         "2000-10-14",
         "57",
         "47.0",
         "45.0",
         "29.0",
         "23.0",
         "18.0",
         "11.0",
         "9.0",
         "9.0",
         "11.0",
         "1.0",
         "1.0",
         "1.0",
         "1.0",
         "4.0",
         "8.0",
         "12.0",
         "22.0",
         "23.0",
         "43.0",
         "44.0",
         null,
         null,
         null,
         null,
         null,
         null,
         null,
         null,
         null,
         null,
         null,
         null,
         null,
         null,
         null,
         null,
         null,
         null,
         null,
         null,
         null,
         null,
         null,
         null,
         null,
         null,
         null,
         null,
         null,
         null,
         null,
         null,
         null,
         null,
         null,
         null,
         null,
         null,
         null,
         null,
         null,
         null,
         null,
         null,
         null,
         null,
         null,
         null,
         null,
         null,
         null,
         null,
         null,
         null,
         null
        ]
       ],
       "shape": {
        "columns": 83,
        "rows": 5
       }
      },
      "text/html": [
       "<div>\n",
       "<style scoped>\n",
       "    .dataframe tbody tr th:only-of-type {\n",
       "        vertical-align: middle;\n",
       "    }\n",
       "\n",
       "    .dataframe tbody tr th {\n",
       "        vertical-align: top;\n",
       "    }\n",
       "\n",
       "    .dataframe thead th {\n",
       "        text-align: right;\n",
       "    }\n",
       "</style>\n",
       "<table border=\"1\" class=\"dataframe\">\n",
       "  <thead>\n",
       "    <tr style=\"text-align: right;\">\n",
       "      <th></th>\n",
       "      <th>year</th>\n",
       "      <th>artist.inverted</th>\n",
       "      <th>track</th>\n",
       "      <th>time</th>\n",
       "      <th>genre</th>\n",
       "      <th>date.entered</th>\n",
       "      <th>date.peaked</th>\n",
       "      <th>x1st.week</th>\n",
       "      <th>x2nd.week</th>\n",
       "      <th>x3rd.week</th>\n",
       "      <th>...</th>\n",
       "      <th>x67th.week</th>\n",
       "      <th>x68th.week</th>\n",
       "      <th>x69th.week</th>\n",
       "      <th>x70th.week</th>\n",
       "      <th>x71st.week</th>\n",
       "      <th>x72nd.week</th>\n",
       "      <th>x73rd.week</th>\n",
       "      <th>x74th.week</th>\n",
       "      <th>x75th.week</th>\n",
       "      <th>x76th.week</th>\n",
       "    </tr>\n",
       "  </thead>\n",
       "  <tbody>\n",
       "    <tr>\n",
       "      <th>0</th>\n",
       "      <td>2000</td>\n",
       "      <td>Destiny's Child</td>\n",
       "      <td>Independent Women Part I</td>\n",
       "      <td>3:38</td>\n",
       "      <td>Rock</td>\n",
       "      <td>2000-09-23</td>\n",
       "      <td>2000-11-18</td>\n",
       "      <td>78</td>\n",
       "      <td>63.0</td>\n",
       "      <td>49.0</td>\n",
       "      <td>...</td>\n",
       "      <td>NaN</td>\n",
       "      <td>NaN</td>\n",
       "      <td>NaN</td>\n",
       "      <td>NaN</td>\n",
       "      <td>NaN</td>\n",
       "      <td>NaN</td>\n",
       "      <td>NaN</td>\n",
       "      <td>NaN</td>\n",
       "      <td>NaN</td>\n",
       "      <td>NaN</td>\n",
       "    </tr>\n",
       "    <tr>\n",
       "      <th>1</th>\n",
       "      <td>2000</td>\n",
       "      <td>Santana</td>\n",
       "      <td>Maria, Maria</td>\n",
       "      <td>4:18</td>\n",
       "      <td>Rock</td>\n",
       "      <td>2000-02-12</td>\n",
       "      <td>2000-04-08</td>\n",
       "      <td>15</td>\n",
       "      <td>8.0</td>\n",
       "      <td>6.0</td>\n",
       "      <td>...</td>\n",
       "      <td>NaN</td>\n",
       "      <td>NaN</td>\n",
       "      <td>NaN</td>\n",
       "      <td>NaN</td>\n",
       "      <td>NaN</td>\n",
       "      <td>NaN</td>\n",
       "      <td>NaN</td>\n",
       "      <td>NaN</td>\n",
       "      <td>NaN</td>\n",
       "      <td>NaN</td>\n",
       "    </tr>\n",
       "    <tr>\n",
       "      <th>2</th>\n",
       "      <td>2000</td>\n",
       "      <td>Savage Garden</td>\n",
       "      <td>I Knew I Loved You</td>\n",
       "      <td>4:07</td>\n",
       "      <td>Rock</td>\n",
       "      <td>1999-10-23</td>\n",
       "      <td>2000-01-29</td>\n",
       "      <td>71</td>\n",
       "      <td>48.0</td>\n",
       "      <td>43.0</td>\n",
       "      <td>...</td>\n",
       "      <td>NaN</td>\n",
       "      <td>NaN</td>\n",
       "      <td>NaN</td>\n",
       "      <td>NaN</td>\n",
       "      <td>NaN</td>\n",
       "      <td>NaN</td>\n",
       "      <td>NaN</td>\n",
       "      <td>NaN</td>\n",
       "      <td>NaN</td>\n",
       "      <td>NaN</td>\n",
       "    </tr>\n",
       "    <tr>\n",
       "      <th>3</th>\n",
       "      <td>2000</td>\n",
       "      <td>Madonna</td>\n",
       "      <td>Music</td>\n",
       "      <td>3:45</td>\n",
       "      <td>Rock</td>\n",
       "      <td>2000-08-12</td>\n",
       "      <td>2000-09-16</td>\n",
       "      <td>41</td>\n",
       "      <td>23.0</td>\n",
       "      <td>18.0</td>\n",
       "      <td>...</td>\n",
       "      <td>NaN</td>\n",
       "      <td>NaN</td>\n",
       "      <td>NaN</td>\n",
       "      <td>NaN</td>\n",
       "      <td>NaN</td>\n",
       "      <td>NaN</td>\n",
       "      <td>NaN</td>\n",
       "      <td>NaN</td>\n",
       "      <td>NaN</td>\n",
       "      <td>NaN</td>\n",
       "    </tr>\n",
       "    <tr>\n",
       "      <th>4</th>\n",
       "      <td>2000</td>\n",
       "      <td>Aguilera, Christina</td>\n",
       "      <td>Come On Over Baby (All I Want Is You)</td>\n",
       "      <td>3:38</td>\n",
       "      <td>Rock</td>\n",
       "      <td>2000-08-05</td>\n",
       "      <td>2000-10-14</td>\n",
       "      <td>57</td>\n",
       "      <td>47.0</td>\n",
       "      <td>45.0</td>\n",
       "      <td>...</td>\n",
       "      <td>NaN</td>\n",
       "      <td>NaN</td>\n",
       "      <td>NaN</td>\n",
       "      <td>NaN</td>\n",
       "      <td>NaN</td>\n",
       "      <td>NaN</td>\n",
       "      <td>NaN</td>\n",
       "      <td>NaN</td>\n",
       "      <td>NaN</td>\n",
       "      <td>NaN</td>\n",
       "    </tr>\n",
       "  </tbody>\n",
       "</table>\n",
       "<p>5 rows × 83 columns</p>\n",
       "</div>"
      ],
      "text/plain": [
       "   year      artist.inverted                                  track  time  \\\n",
       "0  2000      Destiny's Child               Independent Women Part I  3:38   \n",
       "1  2000              Santana                           Maria, Maria  4:18   \n",
       "2  2000        Savage Garden                     I Knew I Loved You  4:07   \n",
       "3  2000              Madonna                                  Music  3:45   \n",
       "4  2000  Aguilera, Christina  Come On Over Baby (All I Want Is You)  3:38   \n",
       "\n",
       "  genre date.entered date.peaked  x1st.week  x2nd.week  x3rd.week  ...  \\\n",
       "0  Rock   2000-09-23  2000-11-18         78       63.0       49.0  ...   \n",
       "1  Rock   2000-02-12  2000-04-08         15        8.0        6.0  ...   \n",
       "2  Rock   1999-10-23  2000-01-29         71       48.0       43.0  ...   \n",
       "3  Rock   2000-08-12  2000-09-16         41       23.0       18.0  ...   \n",
       "4  Rock   2000-08-05  2000-10-14         57       47.0       45.0  ...   \n",
       "\n",
       "   x67th.week  x68th.week  x69th.week  x70th.week  x71st.week  x72nd.week  \\\n",
       "0         NaN         NaN         NaN         NaN         NaN         NaN   \n",
       "1         NaN         NaN         NaN         NaN         NaN         NaN   \n",
       "2         NaN         NaN         NaN         NaN         NaN         NaN   \n",
       "3         NaN         NaN         NaN         NaN         NaN         NaN   \n",
       "4         NaN         NaN         NaN         NaN         NaN         NaN   \n",
       "\n",
       "   x73rd.week  x74th.week  x75th.week  x76th.week  \n",
       "0         NaN         NaN         NaN         NaN  \n",
       "1         NaN         NaN         NaN         NaN  \n",
       "2         NaN         NaN         NaN         NaN  \n",
       "3         NaN         NaN         NaN         NaN  \n",
       "4         NaN         NaN         NaN         NaN  \n",
       "\n",
       "[5 rows x 83 columns]"
      ]
     },
     "execution_count": 150,
     "metadata": {},
     "output_type": "execute_result"
    }
   ],
   "source": [
    "df_billboard.head()"
   ]
  },
  {
   "cell_type": "code",
   "execution_count": 151,
   "metadata": {},
   "outputs": [
    {
     "name": "stdout",
     "output_type": "stream",
     "text": [
      "<class 'pandas.core.frame.DataFrame'>\n",
      "RangeIndex: 317 entries, 0 to 316\n",
      "Data columns (total 83 columns):\n",
      " #   Column           Non-Null Count  Dtype  \n",
      "---  ------           --------------  -----  \n",
      " 0   year             317 non-null    int64  \n",
      " 1   artist.inverted  317 non-null    object \n",
      " 2   track            317 non-null    object \n",
      " 3   time             317 non-null    object \n",
      " 4   genre            317 non-null    object \n",
      " 5   date.entered     317 non-null    object \n",
      " 6   date.peaked      317 non-null    object \n",
      " 7   x1st.week        317 non-null    int64  \n",
      " 8   x2nd.week        312 non-null    float64\n",
      " 9   x3rd.week        307 non-null    float64\n",
      " 10  x4th.week        300 non-null    float64\n",
      " 11  x5th.week        292 non-null    float64\n",
      " 12  x6th.week        280 non-null    float64\n",
      " 13  x7th.week        269 non-null    float64\n",
      " 14  x8th.week        260 non-null    float64\n",
      " 15  x9th.week        253 non-null    float64\n",
      " 16  x10th.week       244 non-null    float64\n",
      " 17  x11th.week       236 non-null    float64\n",
      " 18  x12th.week       222 non-null    float64\n",
      " 19  x13th.week       210 non-null    float64\n",
      " 20  x14th.week       204 non-null    float64\n",
      " 21  x15th.week       197 non-null    float64\n",
      " 22  x16th.week       182 non-null    float64\n",
      " 23  x17th.week       177 non-null    float64\n",
      " 24  x18th.week       166 non-null    float64\n",
      " 25  x19th.week       156 non-null    float64\n",
      " 26  x20th.week       146 non-null    float64\n",
      " 27  x21st.week       65 non-null     float64\n",
      " 28  x22nd.week       55 non-null     float64\n",
      " 29  x23rd.week       48 non-null     float64\n",
      " 30  x24th.week       46 non-null     float64\n",
      " 31  x25th.week       38 non-null     float64\n",
      " 32  x26th.week       36 non-null     float64\n",
      " 33  x27th.week       29 non-null     float64\n",
      " 34  x28th.week       24 non-null     float64\n",
      " 35  x29th.week       20 non-null     float64\n",
      " 36  x30th.week       20 non-null     float64\n",
      " 37  x31st.week       19 non-null     float64\n",
      " 38  x32nd.week       18 non-null     float64\n",
      " 39  x33rd.week       12 non-null     float64\n",
      " 40  x34th.week       10 non-null     float64\n",
      " 41  x35th.week       9 non-null      float64\n",
      " 42  x36th.week       9 non-null      float64\n",
      " 43  x37th.week       9 non-null      float64\n",
      " 44  x38th.week       8 non-null      float64\n",
      " 45  x39th.week       8 non-null      float64\n",
      " 46  x40th.week       7 non-null      float64\n",
      " 47  x41st.week       7 non-null      float64\n",
      " 48  x42nd.week       6 non-null      float64\n",
      " 49  x43rd.week       6 non-null      float64\n",
      " 50  x44th.week       6 non-null      float64\n",
      " 51  x45th.week       5 non-null      float64\n",
      " 52  x46th.week       5 non-null      float64\n",
      " 53  x47th.week       5 non-null      float64\n",
      " 54  x48th.week       4 non-null      float64\n",
      " 55  x49th.week       4 non-null      float64\n",
      " 56  x50th.week       4 non-null      float64\n",
      " 57  x51st.week       4 non-null      float64\n",
      " 58  x52nd.week       4 non-null      float64\n",
      " 59  x53rd.week       4 non-null      float64\n",
      " 60  x54th.week       2 non-null      float64\n",
      " 61  x55th.week       2 non-null      float64\n",
      " 62  x56th.week       2 non-null      float64\n",
      " 63  x57th.week       2 non-null      float64\n",
      " 64  x58th.week       2 non-null      float64\n",
      " 65  x59th.week       2 non-null      float64\n",
      " 66  x60th.week       2 non-null      float64\n",
      " 67  x61st.week       2 non-null      float64\n",
      " 68  x62nd.week       2 non-null      float64\n",
      " 69  x63rd.week       2 non-null      float64\n",
      " 70  x64th.week       2 non-null      float64\n",
      " 71  x65th.week       1 non-null      float64\n",
      " 72  x66th.week       0 non-null      float64\n",
      " 73  x67th.week       0 non-null      float64\n",
      " 74  x68th.week       0 non-null      float64\n",
      " 75  x69th.week       0 non-null      float64\n",
      " 76  x70th.week       0 non-null      float64\n",
      " 77  x71st.week       0 non-null      float64\n",
      " 78  x72nd.week       0 non-null      float64\n",
      " 79  x73rd.week       0 non-null      float64\n",
      " 80  x74th.week       0 non-null      float64\n",
      " 81  x75th.week       0 non-null      float64\n",
      " 82  x76th.week       0 non-null      float64\n",
      "dtypes: float64(75), int64(2), object(6)\n",
      "memory usage: 205.7+ KB\n"
     ]
    }
   ],
   "source": [
    "df_billboard.info()"
   ]
  },
  {
   "attachments": {},
   "cell_type": "markdown",
   "metadata": {},
   "source": [
    "***What is wrong with the above dataset?***\n",
    "* there are a lot of missing values\n",
    "* all 76 weeks are columns which make the dataset has too many features\n",
    "* the value for 'x1st.week' is type int64, but float64 for other '***.week\" "
   ]
  },
  {
   "attachments": {},
   "cell_type": "markdown",
   "metadata": {},
   "source": [
    "3. Let's, again, use the `melt` function to fix the general structure of the dataframe."
   ]
  },
  {
   "cell_type": "code",
   "execution_count": 152,
   "metadata": {},
   "outputs": [
    {
     "data": {
      "application/vnd.microsoft.datawrangler.viewer.v0+json": {
       "columns": [
        {
         "name": "index",
         "rawType": "int64",
         "type": "integer"
        },
        {
         "name": "year",
         "rawType": "int64",
         "type": "integer"
        },
        {
         "name": "artist.inverted",
         "rawType": "object",
         "type": "string"
        },
        {
         "name": "track",
         "rawType": "object",
         "type": "string"
        },
        {
         "name": "time",
         "rawType": "object",
         "type": "string"
        },
        {
         "name": "genre",
         "rawType": "object",
         "type": "string"
        },
        {
         "name": "date.entered",
         "rawType": "object",
         "type": "string"
        },
        {
         "name": "date.peaked",
         "rawType": "object",
         "type": "string"
        },
        {
         "name": "Week",
         "rawType": "object",
         "type": "string"
        },
        {
         "name": "ranking",
         "rawType": "float64",
         "type": "float"
        }
       ],
       "ref": "c26ba88e-4a17-4669-abe6-507923dc7911",
       "rows": [
        [
         "0",
         "2000",
         "Destiny's Child",
         "Independent Women Part I",
         "3:38",
         "Rock",
         "2000-09-23",
         "2000-11-18",
         "x1st.week",
         "78.0"
        ],
        [
         "1",
         "2000",
         "Santana",
         "Maria, Maria",
         "4:18",
         "Rock",
         "2000-02-12",
         "2000-04-08",
         "x1st.week",
         "15.0"
        ],
        [
         "2",
         "2000",
         "Savage Garden",
         "I Knew I Loved You",
         "4:07",
         "Rock",
         "1999-10-23",
         "2000-01-29",
         "x1st.week",
         "71.0"
        ],
        [
         "3",
         "2000",
         "Madonna",
         "Music",
         "3:45",
         "Rock",
         "2000-08-12",
         "2000-09-16",
         "x1st.week",
         "41.0"
        ],
        [
         "4",
         "2000",
         "Aguilera, Christina",
         "Come On Over Baby (All I Want Is You)",
         "3:38",
         "Rock",
         "2000-08-05",
         "2000-10-14",
         "x1st.week",
         "57.0"
        ]
       ],
       "shape": {
        "columns": 9,
        "rows": 5
       }
      },
      "text/html": [
       "<div>\n",
       "<style scoped>\n",
       "    .dataframe tbody tr th:only-of-type {\n",
       "        vertical-align: middle;\n",
       "    }\n",
       "\n",
       "    .dataframe tbody tr th {\n",
       "        vertical-align: top;\n",
       "    }\n",
       "\n",
       "    .dataframe thead th {\n",
       "        text-align: right;\n",
       "    }\n",
       "</style>\n",
       "<table border=\"1\" class=\"dataframe\">\n",
       "  <thead>\n",
       "    <tr style=\"text-align: right;\">\n",
       "      <th></th>\n",
       "      <th>year</th>\n",
       "      <th>artist.inverted</th>\n",
       "      <th>track</th>\n",
       "      <th>time</th>\n",
       "      <th>genre</th>\n",
       "      <th>date.entered</th>\n",
       "      <th>date.peaked</th>\n",
       "      <th>Week</th>\n",
       "      <th>ranking</th>\n",
       "    </tr>\n",
       "  </thead>\n",
       "  <tbody>\n",
       "    <tr>\n",
       "      <th>0</th>\n",
       "      <td>2000</td>\n",
       "      <td>Destiny's Child</td>\n",
       "      <td>Independent Women Part I</td>\n",
       "      <td>3:38</td>\n",
       "      <td>Rock</td>\n",
       "      <td>2000-09-23</td>\n",
       "      <td>2000-11-18</td>\n",
       "      <td>x1st.week</td>\n",
       "      <td>78.0</td>\n",
       "    </tr>\n",
       "    <tr>\n",
       "      <th>1</th>\n",
       "      <td>2000</td>\n",
       "      <td>Santana</td>\n",
       "      <td>Maria, Maria</td>\n",
       "      <td>4:18</td>\n",
       "      <td>Rock</td>\n",
       "      <td>2000-02-12</td>\n",
       "      <td>2000-04-08</td>\n",
       "      <td>x1st.week</td>\n",
       "      <td>15.0</td>\n",
       "    </tr>\n",
       "    <tr>\n",
       "      <th>2</th>\n",
       "      <td>2000</td>\n",
       "      <td>Savage Garden</td>\n",
       "      <td>I Knew I Loved You</td>\n",
       "      <td>4:07</td>\n",
       "      <td>Rock</td>\n",
       "      <td>1999-10-23</td>\n",
       "      <td>2000-01-29</td>\n",
       "      <td>x1st.week</td>\n",
       "      <td>71.0</td>\n",
       "    </tr>\n",
       "    <tr>\n",
       "      <th>3</th>\n",
       "      <td>2000</td>\n",
       "      <td>Madonna</td>\n",
       "      <td>Music</td>\n",
       "      <td>3:45</td>\n",
       "      <td>Rock</td>\n",
       "      <td>2000-08-12</td>\n",
       "      <td>2000-09-16</td>\n",
       "      <td>x1st.week</td>\n",
       "      <td>41.0</td>\n",
       "    </tr>\n",
       "    <tr>\n",
       "      <th>4</th>\n",
       "      <td>2000</td>\n",
       "      <td>Aguilera, Christina</td>\n",
       "      <td>Come On Over Baby (All I Want Is You)</td>\n",
       "      <td>3:38</td>\n",
       "      <td>Rock</td>\n",
       "      <td>2000-08-05</td>\n",
       "      <td>2000-10-14</td>\n",
       "      <td>x1st.week</td>\n",
       "      <td>57.0</td>\n",
       "    </tr>\n",
       "  </tbody>\n",
       "</table>\n",
       "</div>"
      ],
      "text/plain": [
       "   year      artist.inverted                                  track  time  \\\n",
       "0  2000      Destiny's Child               Independent Women Part I  3:38   \n",
       "1  2000              Santana                           Maria, Maria  4:18   \n",
       "2  2000        Savage Garden                     I Knew I Loved You  4:07   \n",
       "3  2000              Madonna                                  Music  3:45   \n",
       "4  2000  Aguilera, Christina  Come On Over Baby (All I Want Is You)  3:38   \n",
       "\n",
       "  genre date.entered date.peaked       Week  ranking  \n",
       "0  Rock   2000-09-23  2000-11-18  x1st.week     78.0  \n",
       "1  Rock   2000-02-12  2000-04-08  x1st.week     15.0  \n",
       "2  Rock   1999-10-23  2000-01-29  x1st.week     71.0  \n",
       "3  Rock   2000-08-12  2000-09-16  x1st.week     41.0  \n",
       "4  Rock   2000-08-05  2000-10-14  x1st.week     57.0  "
      ]
     },
     "execution_count": 152,
     "metadata": {},
     "output_type": "execute_result"
    }
   ],
   "source": [
    "# # convert the dataframe to a new one by making all the 'week' column headers be feature \"week\", and the values to be feature 'ranking'\n",
    "df_billboard_tidy = pd.melt(df_billboard, id_vars=['year', 'artist.inverted', 'track', 'time', 'genre', 'date.entered','date.peaked'], var_name='Week',value_name='ranking')\n",
    "df_billboard_tidy.head()"
   ]
  },
  {
   "attachments": {},
   "cell_type": "markdown",
   "metadata": {},
   "source": [
    "<p style=\"margin-left: 40px;\">If we inspect the current dataframe. We find that it is structured in a better way than before.</p>\n",
    "<p style=\"margin-left: 40px;\">However, the ***Week*** column looks a bit ugly!</p>\n",
    "\n",
    "4. Let's try to place only the week number in that column without the extras surronding it."
   ]
  },
  {
   "cell_type": "code",
   "execution_count": 153,
   "metadata": {},
   "outputs": [],
   "source": [
    "# using regular expression to extract the week number\n",
    "df_billboard_tidy['Week'] = df_billboard_tidy['Week'].str.extract(r'(\\d+)').astype(int)"
   ]
  },
  {
   "attachments": {},
   "cell_type": "markdown",
   "metadata": {},
   "source": [
    "5. Now let's inspect the ***Week*** column in the dataframe."
   ]
  },
  {
   "cell_type": "code",
   "execution_count": 154,
   "metadata": {},
   "outputs": [
    {
     "data": {
      "application/vnd.microsoft.datawrangler.viewer.v0+json": {
       "columns": [
        {
         "name": "index",
         "rawType": "int64",
         "type": "integer"
        },
        {
         "name": "Week",
         "rawType": "int64",
         "type": "integer"
        }
       ],
       "ref": "da185535-040f-4a1b-9780-5598eb70240a",
       "rows": [
        [
         "0",
         "1"
        ],
        [
         "1",
         "1"
        ],
        [
         "2",
         "1"
        ],
        [
         "3",
         "1"
        ],
        [
         "4",
         "1"
        ]
       ],
       "shape": {
        "columns": 1,
        "rows": 5
       }
      },
      "text/plain": [
       "0    1\n",
       "1    1\n",
       "2    1\n",
       "3    1\n",
       "4    1\n",
       "Name: Week, dtype: int64"
      ]
     },
     "execution_count": 154,
     "metadata": {},
     "output_type": "execute_result"
    }
   ],
   "source": [
    "df_billboard_tidy['Week'].head()"
   ]
  },
  {
   "attachments": {},
   "cell_type": "markdown",
   "metadata": {},
   "source": [
    "<p style=\"margin-left: 40px;\">Next, let's try to find the date at which the song ranked the number that is shown per row.</p>\n",
    "\n",
    "6. To do that let's first think of the equation that is going to get us the relevant date at which the song ranked the *rth*.\n",
    "\n"
   ]
  },
  {
   "cell_type": "code",
   "execution_count": 155,
   "metadata": {},
   "outputs": [
    {
     "data": {
      "application/vnd.microsoft.datawrangler.viewer.v0+json": {
       "columns": [
        {
         "name": "index",
         "rawType": "int64",
         "type": "integer"
        },
        {
         "name": "year",
         "rawType": "int64",
         "type": "integer"
        },
        {
         "name": "artist.inverted",
         "rawType": "object",
         "type": "string"
        },
        {
         "name": "track",
         "rawType": "object",
         "type": "string"
        },
        {
         "name": "time",
         "rawType": "object",
         "type": "string"
        },
        {
         "name": "genre",
         "rawType": "object",
         "type": "string"
        },
        {
         "name": "date.entered",
         "rawType": "object",
         "type": "string"
        },
        {
         "name": "date.peaked",
         "rawType": "object",
         "type": "string"
        },
        {
         "name": "Week",
         "rawType": "int64",
         "type": "integer"
        },
        {
         "name": "ranking",
         "rawType": "float64",
         "type": "float"
        },
        {
         "name": "ranking_date",
         "rawType": "datetime64[ns]",
         "type": "datetime"
        }
       ],
       "ref": "13029d25-cbca-4715-86ec-ad991a8be0cf",
       "rows": [
        [
         "0",
         "2000",
         "Destiny's Child",
         "Independent Women Part I",
         "3:38",
         "Rock",
         "2000-09-23",
         "2000-11-18",
         "1",
         "78.0",
         "2000-09-30 00:00:00"
        ],
        [
         "1",
         "2000",
         "Santana",
         "Maria, Maria",
         "4:18",
         "Rock",
         "2000-02-12",
         "2000-04-08",
         "1",
         "15.0",
         "2000-02-19 00:00:00"
        ],
        [
         "2",
         "2000",
         "Savage Garden",
         "I Knew I Loved You",
         "4:07",
         "Rock",
         "1999-10-23",
         "2000-01-29",
         "1",
         "71.0",
         "1999-10-30 00:00:00"
        ],
        [
         "3",
         "2000",
         "Madonna",
         "Music",
         "3:45",
         "Rock",
         "2000-08-12",
         "2000-09-16",
         "1",
         "41.0",
         "2000-08-19 00:00:00"
        ],
        [
         "4",
         "2000",
         "Aguilera, Christina",
         "Come On Over Baby (All I Want Is You)",
         "3:38",
         "Rock",
         "2000-08-05",
         "2000-10-14",
         "1",
         "57.0",
         "2000-08-12 00:00:00"
        ]
       ],
       "shape": {
        "columns": 10,
        "rows": 5
       }
      },
      "text/html": [
       "<div>\n",
       "<style scoped>\n",
       "    .dataframe tbody tr th:only-of-type {\n",
       "        vertical-align: middle;\n",
       "    }\n",
       "\n",
       "    .dataframe tbody tr th {\n",
       "        vertical-align: top;\n",
       "    }\n",
       "\n",
       "    .dataframe thead th {\n",
       "        text-align: right;\n",
       "    }\n",
       "</style>\n",
       "<table border=\"1\" class=\"dataframe\">\n",
       "  <thead>\n",
       "    <tr style=\"text-align: right;\">\n",
       "      <th></th>\n",
       "      <th>year</th>\n",
       "      <th>artist.inverted</th>\n",
       "      <th>track</th>\n",
       "      <th>time</th>\n",
       "      <th>genre</th>\n",
       "      <th>date.entered</th>\n",
       "      <th>date.peaked</th>\n",
       "      <th>Week</th>\n",
       "      <th>ranking</th>\n",
       "      <th>ranking_date</th>\n",
       "    </tr>\n",
       "  </thead>\n",
       "  <tbody>\n",
       "    <tr>\n",
       "      <th>0</th>\n",
       "      <td>2000</td>\n",
       "      <td>Destiny's Child</td>\n",
       "      <td>Independent Women Part I</td>\n",
       "      <td>3:38</td>\n",
       "      <td>Rock</td>\n",
       "      <td>2000-09-23</td>\n",
       "      <td>2000-11-18</td>\n",
       "      <td>1</td>\n",
       "      <td>78.0</td>\n",
       "      <td>2000-09-30</td>\n",
       "    </tr>\n",
       "    <tr>\n",
       "      <th>1</th>\n",
       "      <td>2000</td>\n",
       "      <td>Santana</td>\n",
       "      <td>Maria, Maria</td>\n",
       "      <td>4:18</td>\n",
       "      <td>Rock</td>\n",
       "      <td>2000-02-12</td>\n",
       "      <td>2000-04-08</td>\n",
       "      <td>1</td>\n",
       "      <td>15.0</td>\n",
       "      <td>2000-02-19</td>\n",
       "    </tr>\n",
       "    <tr>\n",
       "      <th>2</th>\n",
       "      <td>2000</td>\n",
       "      <td>Savage Garden</td>\n",
       "      <td>I Knew I Loved You</td>\n",
       "      <td>4:07</td>\n",
       "      <td>Rock</td>\n",
       "      <td>1999-10-23</td>\n",
       "      <td>2000-01-29</td>\n",
       "      <td>1</td>\n",
       "      <td>71.0</td>\n",
       "      <td>1999-10-30</td>\n",
       "    </tr>\n",
       "    <tr>\n",
       "      <th>3</th>\n",
       "      <td>2000</td>\n",
       "      <td>Madonna</td>\n",
       "      <td>Music</td>\n",
       "      <td>3:45</td>\n",
       "      <td>Rock</td>\n",
       "      <td>2000-08-12</td>\n",
       "      <td>2000-09-16</td>\n",
       "      <td>1</td>\n",
       "      <td>41.0</td>\n",
       "      <td>2000-08-19</td>\n",
       "    </tr>\n",
       "    <tr>\n",
       "      <th>4</th>\n",
       "      <td>2000</td>\n",
       "      <td>Aguilera, Christina</td>\n",
       "      <td>Come On Over Baby (All I Want Is You)</td>\n",
       "      <td>3:38</td>\n",
       "      <td>Rock</td>\n",
       "      <td>2000-08-05</td>\n",
       "      <td>2000-10-14</td>\n",
       "      <td>1</td>\n",
       "      <td>57.0</td>\n",
       "      <td>2000-08-12</td>\n",
       "    </tr>\n",
       "  </tbody>\n",
       "</table>\n",
       "</div>"
      ],
      "text/plain": [
       "   year      artist.inverted                                  track  time  \\\n",
       "0  2000      Destiny's Child               Independent Women Part I  3:38   \n",
       "1  2000              Santana                           Maria, Maria  4:18   \n",
       "2  2000        Savage Garden                     I Knew I Loved You  4:07   \n",
       "3  2000              Madonna                                  Music  3:45   \n",
       "4  2000  Aguilera, Christina  Come On Over Baby (All I Want Is You)  3:38   \n",
       "\n",
       "  genre date.entered date.peaked  Week  ranking ranking_date  \n",
       "0  Rock   2000-09-23  2000-11-18     1     78.0   2000-09-30  \n",
       "1  Rock   2000-02-12  2000-04-08     1     15.0   2000-02-19  \n",
       "2  Rock   1999-10-23  2000-01-29     1     71.0   1999-10-30  \n",
       "3  Rock   2000-08-12  2000-09-16     1     41.0   2000-08-19  \n",
       "4  Rock   2000-08-05  2000-10-14     1     57.0   2000-08-12  "
      ]
     },
     "execution_count": 155,
     "metadata": {},
     "output_type": "execute_result"
    }
   ],
   "source": [
    "# Add weeks to start_date\n",
    "df_billboard_tidy['ranking_date'] = pd.to_datetime(df_billboard_tidy['date.entered']) + pd.to_timedelta(df_billboard_tidy['Week'], unit='W')\n",
    "\n",
    "df_billboard_tidy.head()"
   ]
  },
  {
   "attachments": {},
   "cell_type": "markdown",
   "metadata": {},
   "source": [
    "<p style=\"margin-left: 40px;\">*Timedeltas are absolute differences in times, expressed in difference units (e.g. days, hours, minutes, seconds). This method converts an argument from a recognized timedelta format / value into a Timedelta type.*</p>\n"
   ]
  },
  {
   "attachments": {},
   "cell_type": "markdown",
   "metadata": {},
   "source": [
    "***What is the problem with the calculation above?***\n",
    "* it adds new calculated columns to the dataframe, which makes 'Week\" column redundant"
   ]
  },
  {
   "attachments": {},
   "cell_type": "markdown",
   "metadata": {},
   "source": [
    "7. Let's only keep necessary columns"
   ]
  },
  {
   "cell_type": "code",
   "execution_count": 156,
   "metadata": {},
   "outputs": [],
   "source": [
    "# drop column 'Week'\n",
    "df_billboard_tidy = df_billboard_tidy.drop(columns=['Week'])"
   ]
  },
  {
   "attachments": {},
   "cell_type": "markdown",
   "metadata": {},
   "source": [
    "8. How to rename your columns?"
   ]
  },
  {
   "cell_type": "code",
   "execution_count": 157,
   "metadata": {},
   "outputs": [],
   "source": [
    "# rename columns\n",
    "df_billboard_tidy = df_billboard_tidy.rename(columns={'artist.inverted': 'artist_inverted', 'date.entered': 'date_entered', 'date.peaked': 'date_peaked'})"
   ]
  },
  {
   "attachments": {},
   "cell_type": "markdown",
   "metadata": {},
   "source": [
    "<p style=\"margin-left: 40px;\">Display the dataframe</p>"
   ]
  },
  {
   "cell_type": "code",
   "execution_count": 158,
   "metadata": {},
   "outputs": [
    {
     "data": {
      "application/vnd.microsoft.datawrangler.viewer.v0+json": {
       "columns": [
        {
         "name": "index",
         "rawType": "int64",
         "type": "integer"
        },
        {
         "name": "year",
         "rawType": "int64",
         "type": "integer"
        },
        {
         "name": "artist_inverted",
         "rawType": "object",
         "type": "string"
        },
        {
         "name": "track",
         "rawType": "object",
         "type": "string"
        },
        {
         "name": "time",
         "rawType": "object",
         "type": "string"
        },
        {
         "name": "genre",
         "rawType": "object",
         "type": "string"
        },
        {
         "name": "date_entered",
         "rawType": "object",
         "type": "string"
        },
        {
         "name": "date_peaked",
         "rawType": "object",
         "type": "string"
        },
        {
         "name": "ranking",
         "rawType": "float64",
         "type": "float"
        },
        {
         "name": "ranking_date",
         "rawType": "datetime64[ns]",
         "type": "datetime"
        }
       ],
       "ref": "179b1cf6-9e25-40a0-9b31-f6f4d1c26fae",
       "rows": [
        [
         "0",
         "2000",
         "Destiny's Child",
         "Independent Women Part I",
         "3:38",
         "Rock",
         "2000-09-23",
         "2000-11-18",
         "78.0",
         "2000-09-30 00:00:00"
        ],
        [
         "1",
         "2000",
         "Santana",
         "Maria, Maria",
         "4:18",
         "Rock",
         "2000-02-12",
         "2000-04-08",
         "15.0",
         "2000-02-19 00:00:00"
        ],
        [
         "2",
         "2000",
         "Savage Garden",
         "I Knew I Loved You",
         "4:07",
         "Rock",
         "1999-10-23",
         "2000-01-29",
         "71.0",
         "1999-10-30 00:00:00"
        ],
        [
         "3",
         "2000",
         "Madonna",
         "Music",
         "3:45",
         "Rock",
         "2000-08-12",
         "2000-09-16",
         "41.0",
         "2000-08-19 00:00:00"
        ],
        [
         "4",
         "2000",
         "Aguilera, Christina",
         "Come On Over Baby (All I Want Is You)",
         "3:38",
         "Rock",
         "2000-08-05",
         "2000-10-14",
         "57.0",
         "2000-08-12 00:00:00"
        ]
       ],
       "shape": {
        "columns": 9,
        "rows": 5
       }
      },
      "text/html": [
       "<div>\n",
       "<style scoped>\n",
       "    .dataframe tbody tr th:only-of-type {\n",
       "        vertical-align: middle;\n",
       "    }\n",
       "\n",
       "    .dataframe tbody tr th {\n",
       "        vertical-align: top;\n",
       "    }\n",
       "\n",
       "    .dataframe thead th {\n",
       "        text-align: right;\n",
       "    }\n",
       "</style>\n",
       "<table border=\"1\" class=\"dataframe\">\n",
       "  <thead>\n",
       "    <tr style=\"text-align: right;\">\n",
       "      <th></th>\n",
       "      <th>year</th>\n",
       "      <th>artist_inverted</th>\n",
       "      <th>track</th>\n",
       "      <th>time</th>\n",
       "      <th>genre</th>\n",
       "      <th>date_entered</th>\n",
       "      <th>date_peaked</th>\n",
       "      <th>ranking</th>\n",
       "      <th>ranking_date</th>\n",
       "    </tr>\n",
       "  </thead>\n",
       "  <tbody>\n",
       "    <tr>\n",
       "      <th>0</th>\n",
       "      <td>2000</td>\n",
       "      <td>Destiny's Child</td>\n",
       "      <td>Independent Women Part I</td>\n",
       "      <td>3:38</td>\n",
       "      <td>Rock</td>\n",
       "      <td>2000-09-23</td>\n",
       "      <td>2000-11-18</td>\n",
       "      <td>78.0</td>\n",
       "      <td>2000-09-30</td>\n",
       "    </tr>\n",
       "    <tr>\n",
       "      <th>1</th>\n",
       "      <td>2000</td>\n",
       "      <td>Santana</td>\n",
       "      <td>Maria, Maria</td>\n",
       "      <td>4:18</td>\n",
       "      <td>Rock</td>\n",
       "      <td>2000-02-12</td>\n",
       "      <td>2000-04-08</td>\n",
       "      <td>15.0</td>\n",
       "      <td>2000-02-19</td>\n",
       "    </tr>\n",
       "    <tr>\n",
       "      <th>2</th>\n",
       "      <td>2000</td>\n",
       "      <td>Savage Garden</td>\n",
       "      <td>I Knew I Loved You</td>\n",
       "      <td>4:07</td>\n",
       "      <td>Rock</td>\n",
       "      <td>1999-10-23</td>\n",
       "      <td>2000-01-29</td>\n",
       "      <td>71.0</td>\n",
       "      <td>1999-10-30</td>\n",
       "    </tr>\n",
       "    <tr>\n",
       "      <th>3</th>\n",
       "      <td>2000</td>\n",
       "      <td>Madonna</td>\n",
       "      <td>Music</td>\n",
       "      <td>3:45</td>\n",
       "      <td>Rock</td>\n",
       "      <td>2000-08-12</td>\n",
       "      <td>2000-09-16</td>\n",
       "      <td>41.0</td>\n",
       "      <td>2000-08-19</td>\n",
       "    </tr>\n",
       "    <tr>\n",
       "      <th>4</th>\n",
       "      <td>2000</td>\n",
       "      <td>Aguilera, Christina</td>\n",
       "      <td>Come On Over Baby (All I Want Is You)</td>\n",
       "      <td>3:38</td>\n",
       "      <td>Rock</td>\n",
       "      <td>2000-08-05</td>\n",
       "      <td>2000-10-14</td>\n",
       "      <td>57.0</td>\n",
       "      <td>2000-08-12</td>\n",
       "    </tr>\n",
       "  </tbody>\n",
       "</table>\n",
       "</div>"
      ],
      "text/plain": [
       "   year      artist_inverted                                  track  time  \\\n",
       "0  2000      Destiny's Child               Independent Women Part I  3:38   \n",
       "1  2000              Santana                           Maria, Maria  4:18   \n",
       "2  2000        Savage Garden                     I Knew I Loved You  4:07   \n",
       "3  2000              Madonna                                  Music  3:45   \n",
       "4  2000  Aguilera, Christina  Come On Over Baby (All I Want Is You)  3:38   \n",
       "\n",
       "  genre date_entered date_peaked  ranking ranking_date  \n",
       "0  Rock   2000-09-23  2000-11-18     78.0   2000-09-30  \n",
       "1  Rock   2000-02-12  2000-04-08     15.0   2000-02-19  \n",
       "2  Rock   1999-10-23  2000-01-29     71.0   1999-10-30  \n",
       "3  Rock   2000-08-12  2000-09-16     41.0   2000-08-19  \n",
       "4  Rock   2000-08-05  2000-10-14     57.0   2000-08-12  "
      ]
     },
     "execution_count": 158,
     "metadata": {},
     "output_type": "execute_result"
    }
   ],
   "source": [
    "df_billboard_tidy.head()"
   ]
  },
  {
   "attachments": {},
   "cell_type": "markdown",
   "metadata": {},
   "source": [
    "<p style=\"margin-left: 40px;\">In the above dataframe, there are some *NaN* values. What are we going to do?</p>\n",
    "\n",
    "9. Apply quick data cleaning and then observe the dataset"
   ]
  },
  {
   "cell_type": "code",
   "execution_count": 159,
   "metadata": {},
   "outputs": [
    {
     "data": {
      "application/vnd.microsoft.datawrangler.viewer.v0+json": {
       "columns": [
        {
         "name": "index",
         "rawType": "int64",
         "type": "integer"
        },
        {
         "name": "year",
         "rawType": "int64",
         "type": "integer"
        },
        {
         "name": "artist_inverted",
         "rawType": "object",
         "type": "string"
        },
        {
         "name": "track",
         "rawType": "object",
         "type": "string"
        },
        {
         "name": "time",
         "rawType": "object",
         "type": "string"
        },
        {
         "name": "genre",
         "rawType": "object",
         "type": "string"
        },
        {
         "name": "date_entered",
         "rawType": "object",
         "type": "string"
        },
        {
         "name": "date_peaked",
         "rawType": "object",
         "type": "string"
        },
        {
         "name": "ranking",
         "rawType": "float64",
         "type": "float"
        },
        {
         "name": "ranking_date",
         "rawType": "datetime64[ns]",
         "type": "datetime"
        }
       ],
       "ref": "8be3a28a-87c7-4fa5-9ed9-8818a035a2c1",
       "rows": [
        [
         "0",
         "2000",
         "Destiny's Child",
         "Independent Women Part I",
         "3:38",
         "Rock",
         "2000-09-23",
         "2000-11-18",
         "78.0",
         "2000-09-30 00:00:00"
        ],
        [
         "1",
         "2000",
         "Santana",
         "Maria, Maria",
         "4:18",
         "Rock",
         "2000-02-12",
         "2000-04-08",
         "15.0",
         "2000-02-19 00:00:00"
        ],
        [
         "2",
         "2000",
         "Savage Garden",
         "I Knew I Loved You",
         "4:07",
         "Rock",
         "1999-10-23",
         "2000-01-29",
         "71.0",
         "1999-10-30 00:00:00"
        ],
        [
         "3",
         "2000",
         "Madonna",
         "Music",
         "3:45",
         "Rock",
         "2000-08-12",
         "2000-09-16",
         "41.0",
         "2000-08-19 00:00:00"
        ],
        [
         "4",
         "2000",
         "Aguilera, Christina",
         "Come On Over Baby (All I Want Is You)",
         "3:38",
         "Rock",
         "2000-08-05",
         "2000-10-14",
         "57.0",
         "2000-08-12 00:00:00"
        ]
       ],
       "shape": {
        "columns": 9,
        "rows": 5
       }
      },
      "text/html": [
       "<div>\n",
       "<style scoped>\n",
       "    .dataframe tbody tr th:only-of-type {\n",
       "        vertical-align: middle;\n",
       "    }\n",
       "\n",
       "    .dataframe tbody tr th {\n",
       "        vertical-align: top;\n",
       "    }\n",
       "\n",
       "    .dataframe thead th {\n",
       "        text-align: right;\n",
       "    }\n",
       "</style>\n",
       "<table border=\"1\" class=\"dataframe\">\n",
       "  <thead>\n",
       "    <tr style=\"text-align: right;\">\n",
       "      <th></th>\n",
       "      <th>year</th>\n",
       "      <th>artist_inverted</th>\n",
       "      <th>track</th>\n",
       "      <th>time</th>\n",
       "      <th>genre</th>\n",
       "      <th>date_entered</th>\n",
       "      <th>date_peaked</th>\n",
       "      <th>ranking</th>\n",
       "      <th>ranking_date</th>\n",
       "    </tr>\n",
       "  </thead>\n",
       "  <tbody>\n",
       "    <tr>\n",
       "      <th>0</th>\n",
       "      <td>2000</td>\n",
       "      <td>Destiny's Child</td>\n",
       "      <td>Independent Women Part I</td>\n",
       "      <td>3:38</td>\n",
       "      <td>Rock</td>\n",
       "      <td>2000-09-23</td>\n",
       "      <td>2000-11-18</td>\n",
       "      <td>78.0</td>\n",
       "      <td>2000-09-30</td>\n",
       "    </tr>\n",
       "    <tr>\n",
       "      <th>1</th>\n",
       "      <td>2000</td>\n",
       "      <td>Santana</td>\n",
       "      <td>Maria, Maria</td>\n",
       "      <td>4:18</td>\n",
       "      <td>Rock</td>\n",
       "      <td>2000-02-12</td>\n",
       "      <td>2000-04-08</td>\n",
       "      <td>15.0</td>\n",
       "      <td>2000-02-19</td>\n",
       "    </tr>\n",
       "    <tr>\n",
       "      <th>2</th>\n",
       "      <td>2000</td>\n",
       "      <td>Savage Garden</td>\n",
       "      <td>I Knew I Loved You</td>\n",
       "      <td>4:07</td>\n",
       "      <td>Rock</td>\n",
       "      <td>1999-10-23</td>\n",
       "      <td>2000-01-29</td>\n",
       "      <td>71.0</td>\n",
       "      <td>1999-10-30</td>\n",
       "    </tr>\n",
       "    <tr>\n",
       "      <th>3</th>\n",
       "      <td>2000</td>\n",
       "      <td>Madonna</td>\n",
       "      <td>Music</td>\n",
       "      <td>3:45</td>\n",
       "      <td>Rock</td>\n",
       "      <td>2000-08-12</td>\n",
       "      <td>2000-09-16</td>\n",
       "      <td>41.0</td>\n",
       "      <td>2000-08-19</td>\n",
       "    </tr>\n",
       "    <tr>\n",
       "      <th>4</th>\n",
       "      <td>2000</td>\n",
       "      <td>Aguilera, Christina</td>\n",
       "      <td>Come On Over Baby (All I Want Is You)</td>\n",
       "      <td>3:38</td>\n",
       "      <td>Rock</td>\n",
       "      <td>2000-08-05</td>\n",
       "      <td>2000-10-14</td>\n",
       "      <td>57.0</td>\n",
       "      <td>2000-08-12</td>\n",
       "    </tr>\n",
       "  </tbody>\n",
       "</table>\n",
       "</div>"
      ],
      "text/plain": [
       "   year      artist_inverted                                  track  time  \\\n",
       "0  2000      Destiny's Child               Independent Women Part I  3:38   \n",
       "1  2000              Santana                           Maria, Maria  4:18   \n",
       "2  2000        Savage Garden                     I Knew I Loved You  4:07   \n",
       "3  2000              Madonna                                  Music  3:45   \n",
       "4  2000  Aguilera, Christina  Come On Over Baby (All I Want Is You)  3:38   \n",
       "\n",
       "  genre date_entered date_peaked  ranking ranking_date  \n",
       "0  Rock   2000-09-23  2000-11-18     78.0   2000-09-30  \n",
       "1  Rock   2000-02-12  2000-04-08     15.0   2000-02-19  \n",
       "2  Rock   1999-10-23  2000-01-29     71.0   1999-10-30  \n",
       "3  Rock   2000-08-12  2000-09-16     41.0   2000-08-19  \n",
       "4  Rock   2000-08-05  2000-10-14     57.0   2000-08-12  "
      ]
     },
     "execution_count": 159,
     "metadata": {},
     "output_type": "execute_result"
    }
   ],
   "source": [
    "# drop NaN values\n",
    "df_billboard_clean = df_billboard_tidy.dropna()\n",
    "df_billboard_clean.head()"
   ]
  },
  {
   "cell_type": "code",
   "execution_count": 160,
   "metadata": {},
   "outputs": [
    {
     "name": "stdout",
     "output_type": "stream",
     "text": [
      "<class 'pandas.core.frame.DataFrame'>\n",
      "Index: 5307 entries, 0 to 20334\n",
      "Data columns (total 9 columns):\n",
      " #   Column           Non-Null Count  Dtype         \n",
      "---  ------           --------------  -----         \n",
      " 0   year             5307 non-null   int64         \n",
      " 1   artist_inverted  5307 non-null   object        \n",
      " 2   track            5307 non-null   object        \n",
      " 3   time             5307 non-null   object        \n",
      " 4   genre            5307 non-null   object        \n",
      " 5   date_entered     5307 non-null   object        \n",
      " 6   date_peaked      5307 non-null   object        \n",
      " 7   ranking          5307 non-null   float64       \n",
      " 8   ranking_date     5307 non-null   datetime64[ns]\n",
      "dtypes: datetime64[ns](1), float64(1), int64(1), object(6)\n",
      "memory usage: 414.6+ KB\n"
     ]
    }
   ],
   "source": [
    "df_billboard_clean.info()"
   ]
  },
  {
   "attachments": {},
   "cell_type": "markdown",
   "metadata": {},
   "source": [
    "## **Data Cleaning**\n",
    "\n",
    "Data cleaning involves removing unwanted characters, imputing, or dropping missing values.\n",
    "\n",
    "The decision is based on the dataset you have, and the information you can extract from the other columns.\n",
    "\n",
    "\n",
    "Examples of data cleaning include cleaning:\n",
    "\n",
    "1.   **Missing Data**\n",
    "2.   **Irregular Data** (Outliers)\n",
    "3.   **Unnecessary Data** — Repetitive Data, Duplicates and more\n",
    "4.   **Inconsistent Data** — Capitalization, Addresses and more\n",
    "\n",
    "\n",
    "\n",
    "\n",
    "\n",
    "\n"
   ]
  },
  {
   "attachments": {},
   "cell_type": "markdown",
   "metadata": {},
   "source": [
    "### **Cars Data Set**"
   ]
  },
  {
   "attachments": {},
   "cell_type": "markdown",
   "metadata": {},
   "source": [
    "Start by reading the dataset related to car models: ./CSVs/cars.csv"
   ]
  },
  {
   "cell_type": "code",
   "execution_count": 161,
   "metadata": {},
   "outputs": [
    {
     "data": {
      "application/vnd.microsoft.datawrangler.viewer.v0+json": {
       "columns": [
        {
         "name": "index",
         "rawType": "int64",
         "type": "integer"
        },
        {
         "name": "Car",
         "rawType": "object",
         "type": "string"
        },
        {
         "name": "MPG",
         "rawType": "object",
         "type": "unknown"
        },
        {
         "name": "Cylinders",
         "rawType": "object",
         "type": "string"
        },
        {
         "name": "Displacement",
         "rawType": "object",
         "type": "unknown"
        },
        {
         "name": "Horsepower",
         "rawType": "object",
         "type": "unknown"
        },
        {
         "name": "Weight",
         "rawType": "object",
         "type": "unknown"
        },
        {
         "name": "Acceleration",
         "rawType": "object",
         "type": "string"
        },
        {
         "name": "Model",
         "rawType": "object",
         "type": "string"
        },
        {
         "name": "Origin",
         "rawType": "object",
         "type": "string"
        }
       ],
       "ref": "87092fca-086e-44ea-8c01-30e284e76e36",
       "rows": [
        [
         "0",
         "STRING",
         "DOUBLE",
         "INT",
         "DOUBLE",
         "DOUBLE",
         "DOUBLE",
         "DOUBLE",
         "INT",
         "CAT"
        ],
        [
         "1",
         "Chevrolet Chevelle Malibu",
         null,
         "8",
         "307.0",
         "130.0",
         "3504.",
         "12.0",
         "70",
         "US"
        ],
        [
         "2",
         "Buick Skylark 320",
         "15.0",
         "8",
         "350.0",
         null,
         "3693.",
         "11.5",
         "70",
         "US"
        ],
        [
         "3",
         "Plymouth Satellite",
         null,
         "8",
         "318.0",
         "150.0",
         "3436.",
         "11.0",
         "70",
         "US"
        ],
        [
         "4",
         "AMC Rebel SST",
         "16.0",
         "8",
         null,
         "150.0",
         null,
         "12.0",
         "70",
         "US"
        ]
       ],
       "shape": {
        "columns": 9,
        "rows": 5
       }
      },
      "text/html": [
       "<div>\n",
       "<style scoped>\n",
       "    .dataframe tbody tr th:only-of-type {\n",
       "        vertical-align: middle;\n",
       "    }\n",
       "\n",
       "    .dataframe tbody tr th {\n",
       "        vertical-align: top;\n",
       "    }\n",
       "\n",
       "    .dataframe thead th {\n",
       "        text-align: right;\n",
       "    }\n",
       "</style>\n",
       "<table border=\"1\" class=\"dataframe\">\n",
       "  <thead>\n",
       "    <tr style=\"text-align: right;\">\n",
       "      <th></th>\n",
       "      <th>Car</th>\n",
       "      <th>MPG</th>\n",
       "      <th>Cylinders</th>\n",
       "      <th>Displacement</th>\n",
       "      <th>Horsepower</th>\n",
       "      <th>Weight</th>\n",
       "      <th>Acceleration</th>\n",
       "      <th>Model</th>\n",
       "      <th>Origin</th>\n",
       "    </tr>\n",
       "  </thead>\n",
       "  <tbody>\n",
       "    <tr>\n",
       "      <th>0</th>\n",
       "      <td>STRING</td>\n",
       "      <td>DOUBLE</td>\n",
       "      <td>INT</td>\n",
       "      <td>DOUBLE</td>\n",
       "      <td>DOUBLE</td>\n",
       "      <td>DOUBLE</td>\n",
       "      <td>DOUBLE</td>\n",
       "      <td>INT</td>\n",
       "      <td>CAT</td>\n",
       "    </tr>\n",
       "    <tr>\n",
       "      <th>1</th>\n",
       "      <td>Chevrolet Chevelle Malibu</td>\n",
       "      <td>NaN</td>\n",
       "      <td>8</td>\n",
       "      <td>307.0</td>\n",
       "      <td>130.0</td>\n",
       "      <td>3504.</td>\n",
       "      <td>12.0</td>\n",
       "      <td>70</td>\n",
       "      <td>US</td>\n",
       "    </tr>\n",
       "    <tr>\n",
       "      <th>2</th>\n",
       "      <td>Buick Skylark 320</td>\n",
       "      <td>15.0</td>\n",
       "      <td>8</td>\n",
       "      <td>350.0</td>\n",
       "      <td>NaN</td>\n",
       "      <td>3693.</td>\n",
       "      <td>11.5</td>\n",
       "      <td>70</td>\n",
       "      <td>US</td>\n",
       "    </tr>\n",
       "    <tr>\n",
       "      <th>3</th>\n",
       "      <td>Plymouth Satellite</td>\n",
       "      <td>NaN</td>\n",
       "      <td>8</td>\n",
       "      <td>318.0</td>\n",
       "      <td>150.0</td>\n",
       "      <td>3436.</td>\n",
       "      <td>11.0</td>\n",
       "      <td>70</td>\n",
       "      <td>US</td>\n",
       "    </tr>\n",
       "    <tr>\n",
       "      <th>4</th>\n",
       "      <td>AMC Rebel SST</td>\n",
       "      <td>16.0</td>\n",
       "      <td>8</td>\n",
       "      <td>NaN</td>\n",
       "      <td>150.0</td>\n",
       "      <td>NaN</td>\n",
       "      <td>12.0</td>\n",
       "      <td>70</td>\n",
       "      <td>US</td>\n",
       "    </tr>\n",
       "  </tbody>\n",
       "</table>\n",
       "</div>"
      ],
      "text/plain": [
       "                         Car     MPG Cylinders Displacement Horsepower  \\\n",
       "0                     STRING  DOUBLE       INT       DOUBLE     DOUBLE   \n",
       "1  Chevrolet Chevelle Malibu     NaN         8        307.0      130.0   \n",
       "2          Buick Skylark 320    15.0         8        350.0        NaN   \n",
       "3         Plymouth Satellite     NaN         8        318.0      150.0   \n",
       "4              AMC Rebel SST    16.0         8          NaN      150.0   \n",
       "\n",
       "   Weight Acceleration Model Origin  \n",
       "0  DOUBLE       DOUBLE   INT    CAT  \n",
       "1   3504.         12.0    70     US  \n",
       "2   3693.         11.5    70     US  \n",
       "3   3436.         11.0    70     US  \n",
       "4     NaN         12.0    70     US  "
      ]
     },
     "execution_count": 161,
     "metadata": {},
     "output_type": "execute_result"
    }
   ],
   "source": [
    "# read cars.csv to datafram with semicolon delimiter\n",
    "df_cars = pd.read_csv('./data/cars.csv', sep=';')\n",
    "df_cars.head()"
   ]
  },
  {
   "attachments": {},
   "cell_type": "markdown",
   "metadata": {},
   "source": [
    "First Row seems to be the datatype, we need to remove it"
   ]
  },
  {
   "cell_type": "code",
   "execution_count": 162,
   "metadata": {},
   "outputs": [],
   "source": [
    "# remove first row\n",
    "df_cars.drop(index=0, inplace=True)"
   ]
  },
  {
   "attachments": {},
   "cell_type": "markdown",
   "metadata": {},
   "source": [
    "Let's observe the columns with null values.  Either by using the `isnull().sum()` function "
   ]
  },
  {
   "cell_type": "code",
   "execution_count": 163,
   "metadata": {},
   "outputs": [
    {
     "data": {
      "application/vnd.microsoft.datawrangler.viewer.v0+json": {
       "columns": [
        {
         "name": "index",
         "rawType": "object",
         "type": "string"
        },
        {
         "name": "0",
         "rawType": "int64",
         "type": "integer"
        }
       ],
       "ref": "0590a144-cfbe-477e-9788-a40400130ae8",
       "rows": [
        [
         "Car",
         "0"
        ],
        [
         "MPG",
         "3"
        ],
        [
         "Cylinders",
         "0"
        ],
        [
         "Displacement",
         "1"
        ],
        [
         "Horsepower",
         "2"
        ],
        [
         "Weight",
         "1"
        ],
        [
         "Acceleration",
         "0"
        ],
        [
         "Model",
         "0"
        ],
        [
         "Origin",
         "0"
        ]
       ],
       "shape": {
        "columns": 1,
        "rows": 9
       }
      },
      "text/plain": [
       "Car             0\n",
       "MPG             3\n",
       "Cylinders       0\n",
       "Displacement    1\n",
       "Horsepower      2\n",
       "Weight          1\n",
       "Acceleration    0\n",
       "Model           0\n",
       "Origin          0\n",
       "dtype: int64"
      ]
     },
     "execution_count": 163,
     "metadata": {},
     "output_type": "execute_result"
    }
   ],
   "source": [
    "# display null value count for each column\n",
    "df_cars.isnull().sum()"
   ]
  },
  {
   "attachments": {},
   "cell_type": "markdown",
   "metadata": {},
   "source": [
    "There aren't many missing values. Let's take a glimpse at the percentage of the missing values:\n",
    "\n",
    "**HINT:** We'll need `Numpy` for the below task."
   ]
  },
  {
   "cell_type": "code",
   "execution_count": 164,
   "metadata": {},
   "outputs": [
    {
     "name": "stdout",
     "output_type": "stream",
     "text": [
      "0.19157088122605362\n"
     ]
    }
   ],
   "source": [
    "# calculate missing value percentage\n",
    "total_missing_percent = df_cars.isna().sum().sum() / df_cars.size * 100\n",
    "print(total_missing_percent)"
   ]
  },
  {
   "attachments": {},
   "cell_type": "markdown",
   "metadata": {},
   "source": [
    "Around *0.19%* of the values are missing, which isn't a lot. Therefore, we might go with the option of dropping all the rows with null values."
   ]
  },
  {
   "attachments": {},
   "cell_type": "markdown",
   "metadata": {},
   "source": [
    "Lets also check dropping the columns"
   ]
  },
  {
   "cell_type": "code",
   "execution_count": 165,
   "metadata": {},
   "outputs": [
    {
     "name": "stdout",
     "output_type": "stream",
     "text": [
      "Columns with missing values:\n",
      "Index(['MPG', 'Displacement', 'Horsepower', 'Weight'], dtype='object')\n"
     ]
    }
   ],
   "source": [
    "# columns that have missing values\n",
    "missing_cols = df_cars.columns[df_cars.isna().any()]\n",
    "print(\"Columns with missing values:\")\n",
    "print(missing_cols)"
   ]
  },
  {
   "attachments": {},
   "cell_type": "markdown",
   "metadata": {},
   "source": [
    "Let's observe how many columns we lost"
   ]
  },
  {
   "cell_type": "code",
   "execution_count": 166,
   "metadata": {},
   "outputs": [
    {
     "name": "stdout",
     "output_type": "stream",
     "text": [
      "Count of the columns that have missing values: 4\n"
     ]
    }
   ],
   "source": [
    "print(f\"Count of the columns that have missing values: {len(missing_cols)}\")"
   ]
  },
  {
   "attachments": {},
   "cell_type": "markdown",
   "metadata": {},
   "source": [
    "### **Cars Dataset - Filling in missing values automatically**\n",
    "\n",
    "Another option is to try and fill in the missing values through imputations."
   ]
  },
  {
   "attachments": {},
   "cell_type": "markdown",
   "metadata": {},
   "source": [
    "Let's take the `MPG` column for example. We can fill in the missing values with 0s through the following line of code:\n",
    "\n",
    "`df_cars.fillna(0) `. "
   ]
  },
  {
   "attachments": {},
   "cell_type": "markdown",
   "metadata": {},
   "source": [
    "However, this does not make much sense as there isn't MPG equal to 0. How about we plot the MPG column and if it follows a random distribution we can use the mean of the column to compute the missing values. Otherwise, we can use the median (if there is a skewed normal distribution). However, there might be a better way of imputation which is getting the median or the mean of the MPG of the cars with similar attributes."
   ]
  },
  {
   "cell_type": "code",
   "execution_count": 167,
   "metadata": {},
   "outputs": [
    {
     "data": {
      "image/png": "[encoded data removed]",
      "text/plain": [
       "<Figure size 640x480 with 1 Axes>"
      ]
     },
     "metadata": {},
     "output_type": "display_data"
    }
   ],
   "source": [
    "from sklearn.preprocessing import MinMaxScaler\n",
    "# Standardize (mean=0, std=1)\n",
    "scaler = MinMaxScaler()\n",
    "df_cars['MPG_standardized'] = scaler.fit_transform(df_cars[['MPG']])\n",
    "# Histogram with seaborn\n",
    "sns.histplot(df_cars['MPG_standardized'], kde=True, bins=10)\n",
    "plt.title('Distribution of MPG_standardized')\n",
    "plt.xlabel('MPG_standardized')\n",
    "plt.ylabel('Frequency')\n",
    "plt.grid(True)\n",
    "plt.show()\n"
   ]
  },
  {
   "attachments": {},
   "cell_type": "markdown",
   "metadata": {},
   "source": [
    "If we observe the graph above, we can consider it in a way or another normally distributed. Therefore, we can impute the missing values using the mean."
   ]
  },
  {
   "attachments": {},
   "cell_type": "markdown",
   "metadata": {},
   "source": [
    "To compute the mean we need numeric values. However the values in the dataframe are objects. Therefore, we need to change them to numerics so that we can compute them."
   ]
  },
  {
   "cell_type": "code",
   "execution_count": 168,
   "metadata": {},
   "outputs": [],
   "source": [
    "# change MPG from object to float\n",
    "df_cars['MPG'] = df_cars['MPG'].astype(float)"
   ]
  },
  {
   "attachments": {},
   "cell_type": "markdown",
   "metadata": {},
   "source": [
    "Now let's see what is the mean of the MPG column"
   ]
  },
  {
   "cell_type": "code",
   "execution_count": 169,
   "metadata": {},
   "outputs": [
    {
     "name": "stdout",
     "output_type": "stream",
     "text": [
      "MPG mean: 23.1\n"
     ]
    }
   ],
   "source": [
    "# calculate MPG mean\n",
    "mean_mpg = df_cars['MPG'].mean().round(2)\n",
    "print(f\"MPG mean: {mean_mpg}\")"
   ]
  },
  {
   "attachments": {},
   "cell_type": "markdown",
   "metadata": {},
   "source": [
    "We can use this mean to compute the missing values since the graph demonstarted a normal distribution"
   ]
  },
  {
   "cell_type": "code",
   "execution_count": 170,
   "metadata": {},
   "outputs": [
    {
     "data": {
      "application/vnd.microsoft.datawrangler.viewer.v0+json": {
       "columns": [
        {
         "name": "index",
         "rawType": "int64",
         "type": "integer"
        },
        {
         "name": "Car",
         "rawType": "object",
         "type": "string"
        },
        {
         "name": "MPG",
         "rawType": "float64",
         "type": "float"
        },
        {
         "name": "Cylinders",
         "rawType": "object",
         "type": "string"
        },
        {
         "name": "Displacement",
         "rawType": "object",
         "type": "unknown"
        },
        {
         "name": "Horsepower",
         "rawType": "object",
         "type": "unknown"
        },
        {
         "name": "Weight",
         "rawType": "object",
         "type": "unknown"
        },
        {
         "name": "Acceleration",
         "rawType": "object",
         "type": "string"
        },
        {
         "name": "Model",
         "rawType": "object",
         "type": "string"
        },
        {
         "name": "Origin",
         "rawType": "object",
         "type": "string"
        },
        {
         "name": "MPG_standardized",
         "rawType": "float64",
         "type": "float"
        }
       ],
       "ref": "6e5cc0ad-1529-43c3-bc6f-5602426cc69f",
       "rows": [
        [
         "1",
         "Chevrolet Chevelle Malibu",
         "23.1",
         "8",
         "307.0",
         "130.0",
         "3504.",
         "12.0",
         "70",
         "US",
         null
        ],
        [
         "2",
         "Buick Skylark 320",
         "15.0",
         "8",
         "350.0",
         null,
         "3693.",
         "11.5",
         "70",
         "US",
         "0.3218884120171674"
        ],
        [
         "3",
         "Plymouth Satellite",
         "23.1",
         "8",
         "318.0",
         "150.0",
         "3436.",
         "11.0",
         "70",
         "US",
         null
        ],
        [
         "4",
         "AMC Rebel SST",
         "16.0",
         "8",
         null,
         "150.0",
         null,
         "12.0",
         "70",
         "US",
         "0.34334763948497854"
        ],
        [
         "5",
         "Ford Torino",
         "17.0",
         "8",
         "302.0",
         "140.0",
         "3449.",
         "10.5",
         "70",
         "US",
         "0.3648068669527897"
        ]
       ],
       "shape": {
        "columns": 10,
        "rows": 5
       }
      },
      "text/html": [
       "<div>\n",
       "<style scoped>\n",
       "    .dataframe tbody tr th:only-of-type {\n",
       "        vertical-align: middle;\n",
       "    }\n",
       "\n",
       "    .dataframe tbody tr th {\n",
       "        vertical-align: top;\n",
       "    }\n",
       "\n",
       "    .dataframe thead th {\n",
       "        text-align: right;\n",
       "    }\n",
       "</style>\n",
       "<table border=\"1\" class=\"dataframe\">\n",
       "  <thead>\n",
       "    <tr style=\"text-align: right;\">\n",
       "      <th></th>\n",
       "      <th>Car</th>\n",
       "      <th>MPG</th>\n",
       "      <th>Cylinders</th>\n",
       "      <th>Displacement</th>\n",
       "      <th>Horsepower</th>\n",
       "      <th>Weight</th>\n",
       "      <th>Acceleration</th>\n",
       "      <th>Model</th>\n",
       "      <th>Origin</th>\n",
       "      <th>MPG_standardized</th>\n",
       "    </tr>\n",
       "  </thead>\n",
       "  <tbody>\n",
       "    <tr>\n",
       "      <th>1</th>\n",
       "      <td>Chevrolet Chevelle Malibu</td>\n",
       "      <td>23.1</td>\n",
       "      <td>8</td>\n",
       "      <td>307.0</td>\n",
       "      <td>130.0</td>\n",
       "      <td>3504.</td>\n",
       "      <td>12.0</td>\n",
       "      <td>70</td>\n",
       "      <td>US</td>\n",
       "      <td>NaN</td>\n",
       "    </tr>\n",
       "    <tr>\n",
       "      <th>2</th>\n",
       "      <td>Buick Skylark 320</td>\n",
       "      <td>15.0</td>\n",
       "      <td>8</td>\n",
       "      <td>350.0</td>\n",
       "      <td>NaN</td>\n",
       "      <td>3693.</td>\n",
       "      <td>11.5</td>\n",
       "      <td>70</td>\n",
       "      <td>US</td>\n",
       "      <td>0.321888</td>\n",
       "    </tr>\n",
       "    <tr>\n",
       "      <th>3</th>\n",
       "      <td>Plymouth Satellite</td>\n",
       "      <td>23.1</td>\n",
       "      <td>8</td>\n",
       "      <td>318.0</td>\n",
       "      <td>150.0</td>\n",
       "      <td>3436.</td>\n",
       "      <td>11.0</td>\n",
       "      <td>70</td>\n",
       "      <td>US</td>\n",
       "      <td>NaN</td>\n",
       "    </tr>\n",
       "    <tr>\n",
       "      <th>4</th>\n",
       "      <td>AMC Rebel SST</td>\n",
       "      <td>16.0</td>\n",
       "      <td>8</td>\n",
       "      <td>NaN</td>\n",
       "      <td>150.0</td>\n",
       "      <td>NaN</td>\n",
       "      <td>12.0</td>\n",
       "      <td>70</td>\n",
       "      <td>US</td>\n",
       "      <td>0.343348</td>\n",
       "    </tr>\n",
       "    <tr>\n",
       "      <th>5</th>\n",
       "      <td>Ford Torino</td>\n",
       "      <td>17.0</td>\n",
       "      <td>8</td>\n",
       "      <td>302.0</td>\n",
       "      <td>140.0</td>\n",
       "      <td>3449.</td>\n",
       "      <td>10.5</td>\n",
       "      <td>70</td>\n",
       "      <td>US</td>\n",
       "      <td>0.364807</td>\n",
       "    </tr>\n",
       "  </tbody>\n",
       "</table>\n",
       "</div>"
      ],
      "text/plain": [
       "                         Car   MPG Cylinders Displacement Horsepower Weight  \\\n",
       "1  Chevrolet Chevelle Malibu  23.1         8        307.0      130.0  3504.   \n",
       "2          Buick Skylark 320  15.0         8        350.0        NaN  3693.   \n",
       "3         Plymouth Satellite  23.1         8        318.0      150.0  3436.   \n",
       "4              AMC Rebel SST  16.0         8          NaN      150.0    NaN   \n",
       "5                Ford Torino  17.0         8        302.0      140.0  3449.   \n",
       "\n",
       "  Acceleration Model Origin  MPG_standardized  \n",
       "1         12.0    70     US               NaN  \n",
       "2         11.5    70     US          0.321888  \n",
       "3         11.0    70     US               NaN  \n",
       "4         12.0    70     US          0.343348  \n",
       "5         10.5    70     US          0.364807  "
      ]
     },
     "execution_count": 170,
     "metadata": {},
     "output_type": "execute_result"
    }
   ],
   "source": [
    "df_cars['MPG'] = df_cars['MPG'].fillna(mean_mpg)\n",
    "df_cars.head()"
   ]
  },
  {
   "attachments": {},
   "cell_type": "markdown",
   "metadata": {},
   "source": [
    "### **Car Dataset - Simple Imputer**"
   ]
  },
  {
   "attachments": {},
   "cell_type": "markdown",
   "metadata": {},
   "source": [
    "*SimpleImputer* is a `scikit-learn` class which is helpful in handling the missing data in the predictive model dataset. It replaces the `NaN` values with a specified placeholder.\n",
    "It is implemented by the use of the `SimpleImputer()` method which takes the following arguments :\n",
    "\n",
    "`missing_values` : The missing_values placeholder which has to be imputed. By default is NaN\n",
    "\n",
    "`strategy` : The data which will replace the NaN values from the dataset. The strategy argument can take the values – ‘mean'(default), ‘median’, ‘most_frequent’ and ‘constant’.\n"
   ]
  },
  {
   "attachments": {},
   "cell_type": "markdown",
   "metadata": {},
   "source": [
    "Let's start by importing the `SimpleImputer` into our notebook"
   ]
  },
  {
   "cell_type": "code",
   "execution_count": 171,
   "metadata": {},
   "outputs": [],
   "source": [
    "from sklearn.impute import SimpleImputer"
   ]
  },
  {
   "attachments": {},
   "cell_type": "markdown",
   "metadata": {},
   "source": [
    "What we need to do are two essential steps:\n",
    "\n",
    "1. fit the data (compute the mean / median / most freq)\n",
    "2. transform the data (place the computed values in the NaN cells)"
   ]
  },
  {
   "cell_type": "code",
   "execution_count": 172,
   "metadata": {},
   "outputs": [
    {
     "data": {
      "application/vnd.microsoft.datawrangler.viewer.v0+json": {
       "columns": [
        {
         "name": "index",
         "rawType": "int64",
         "type": "integer"
        },
        {
         "name": "Car",
         "rawType": "object",
         "type": "string"
        },
        {
         "name": "MPG",
         "rawType": "float64",
         "type": "float"
        },
        {
         "name": "Cylinders",
         "rawType": "object",
         "type": "string"
        },
        {
         "name": "Displacement",
         "rawType": "float64",
         "type": "float"
        },
        {
         "name": "Horsepower",
         "rawType": "float64",
         "type": "float"
        },
        {
         "name": "Weight",
         "rawType": "float64",
         "type": "float"
        },
        {
         "name": "Acceleration",
         "rawType": "object",
         "type": "string"
        },
        {
         "name": "Model",
         "rawType": "object",
         "type": "string"
        },
        {
         "name": "Origin",
         "rawType": "object",
         "type": "string"
        },
        {
         "name": "MPG_standardized",
         "rawType": "float64",
         "type": "float"
        }
       ],
       "ref": "d58159f3-0b2e-4045-a8e4-5b9e87b3ad0d",
       "rows": [
        [
         "1",
         "Chevrolet Chevelle Malibu",
         "23.1",
         "8",
         "307.0",
         "130.0",
         "3504.0",
         "12.0",
         "70",
         "US",
         null
        ],
        [
         "2",
         "Buick Skylark 320",
         "15.0",
         "8",
         "350.0",
         "92.5",
         "3693.0",
         "11.5",
         "70",
         "US",
         "0.3218884120171674"
        ],
        [
         "3",
         "Plymouth Satellite",
         "23.1",
         "8",
         "318.0",
         "150.0",
         "3436.0",
         "11.0",
         "70",
         "US",
         null
        ],
        [
         "4",
         "AMC Rebel SST",
         "16.0",
         "8",
         "151.0",
         "150.0",
         "2815.0",
         "12.0",
         "70",
         "US",
         "0.34334763948497854"
        ],
        [
         "5",
         "Ford Torino",
         "17.0",
         "8",
         "302.0",
         "140.0",
         "3449.0",
         "10.5",
         "70",
         "US",
         "0.3648068669527897"
        ]
       ],
       "shape": {
        "columns": 10,
        "rows": 5
       }
      },
      "text/html": [
       "<div>\n",
       "<style scoped>\n",
       "    .dataframe tbody tr th:only-of-type {\n",
       "        vertical-align: middle;\n",
       "    }\n",
       "\n",
       "    .dataframe tbody tr th {\n",
       "        vertical-align: top;\n",
       "    }\n",
       "\n",
       "    .dataframe thead th {\n",
       "        text-align: right;\n",
       "    }\n",
       "</style>\n",
       "<table border=\"1\" class=\"dataframe\">\n",
       "  <thead>\n",
       "    <tr style=\"text-align: right;\">\n",
       "      <th></th>\n",
       "      <th>Car</th>\n",
       "      <th>MPG</th>\n",
       "      <th>Cylinders</th>\n",
       "      <th>Displacement</th>\n",
       "      <th>Horsepower</th>\n",
       "      <th>Weight</th>\n",
       "      <th>Acceleration</th>\n",
       "      <th>Model</th>\n",
       "      <th>Origin</th>\n",
       "      <th>MPG_standardized</th>\n",
       "    </tr>\n",
       "  </thead>\n",
       "  <tbody>\n",
       "    <tr>\n",
       "      <th>1</th>\n",
       "      <td>Chevrolet Chevelle Malibu</td>\n",
       "      <td>23.1</td>\n",
       "      <td>8</td>\n",
       "      <td>307.0</td>\n",
       "      <td>130.0</td>\n",
       "      <td>3504.0</td>\n",
       "      <td>12.0</td>\n",
       "      <td>70</td>\n",
       "      <td>US</td>\n",
       "      <td>NaN</td>\n",
       "    </tr>\n",
       "    <tr>\n",
       "      <th>2</th>\n",
       "      <td>Buick Skylark 320</td>\n",
       "      <td>15.0</td>\n",
       "      <td>8</td>\n",
       "      <td>350.0</td>\n",
       "      <td>92.5</td>\n",
       "      <td>3693.0</td>\n",
       "      <td>11.5</td>\n",
       "      <td>70</td>\n",
       "      <td>US</td>\n",
       "      <td>0.321888</td>\n",
       "    </tr>\n",
       "    <tr>\n",
       "      <th>3</th>\n",
       "      <td>Plymouth Satellite</td>\n",
       "      <td>23.1</td>\n",
       "      <td>8</td>\n",
       "      <td>318.0</td>\n",
       "      <td>150.0</td>\n",
       "      <td>3436.0</td>\n",
       "      <td>11.0</td>\n",
       "      <td>70</td>\n",
       "      <td>US</td>\n",
       "      <td>NaN</td>\n",
       "    </tr>\n",
       "    <tr>\n",
       "      <th>4</th>\n",
       "      <td>AMC Rebel SST</td>\n",
       "      <td>16.0</td>\n",
       "      <td>8</td>\n",
       "      <td>151.0</td>\n",
       "      <td>150.0</td>\n",
       "      <td>2815.0</td>\n",
       "      <td>12.0</td>\n",
       "      <td>70</td>\n",
       "      <td>US</td>\n",
       "      <td>0.343348</td>\n",
       "    </tr>\n",
       "    <tr>\n",
       "      <th>5</th>\n",
       "      <td>Ford Torino</td>\n",
       "      <td>17.0</td>\n",
       "      <td>8</td>\n",
       "      <td>302.0</td>\n",
       "      <td>140.0</td>\n",
       "      <td>3449.0</td>\n",
       "      <td>10.5</td>\n",
       "      <td>70</td>\n",
       "      <td>US</td>\n",
       "      <td>0.364807</td>\n",
       "    </tr>\n",
       "  </tbody>\n",
       "</table>\n",
       "</div>"
      ],
      "text/plain": [
       "                         Car   MPG Cylinders  Displacement  Horsepower  \\\n",
       "1  Chevrolet Chevelle Malibu  23.1         8         307.0       130.0   \n",
       "2          Buick Skylark 320  15.0         8         350.0        92.5   \n",
       "3         Plymouth Satellite  23.1         8         318.0       150.0   \n",
       "4              AMC Rebel SST  16.0         8         151.0       150.0   \n",
       "5                Ford Torino  17.0         8         302.0       140.0   \n",
       "\n",
       "   Weight Acceleration Model Origin  MPG_standardized  \n",
       "1  3504.0         12.0    70     US               NaN  \n",
       "2  3693.0         11.5    70     US          0.321888  \n",
       "3  3436.0         11.0    70     US               NaN  \n",
       "4  2815.0         12.0    70     US          0.343348  \n",
       "5  3449.0         10.5    70     US          0.364807  "
      ]
     },
     "execution_count": 172,
     "metadata": {},
     "output_type": "execute_result"
    }
   ],
   "source": [
    "# Create the imputer for median strategy\n",
    "imputer = SimpleImputer(strategy='median')\n",
    "# Select columns to impute\n",
    "cols_to_impute = ['Displacement', 'Horsepower', 'Weight']\n",
    "# Step 1: Fit the imputer to the data\n",
    "imputer.fit(df_cars[cols_to_impute])\n",
    "# Step 2: Transform the data using the fitted imputer\n",
    "df_cars[cols_to_impute] = imputer.transform(df_cars[cols_to_impute])\n",
    "# observe result dataframe\n",
    "df_cars.head()"
   ]
  },
  {
   "cell_type": "markdown",
   "metadata": {},
   "source": [
    "## **Outlier Detection** \n",
    "\n",
    "\n",
    "An Outlier is a data-item/object that deviates significantly from the rest of the (so-called normal) objects. They can be caused by measurement or execution errors. The analysis for outlier detection is referred to as outlier mining. There are many ways to detect the outliers, and the removal process is the data frame same as removing a data item from the panda’s data frame.\n",
    "\n",
    "\n",
    "\n",
    "https://www.geeksforgeeks.org/detect-and-remove-the-outliers-using-python/\n",
    "\n",
    "\n",
    "\n"
   ]
  },
  {
   "cell_type": "markdown",
   "metadata": {},
   "source": [
    "The dataset used is the Diabetes dataset and it is preloaded in the Sklearn library."
   ]
  },
  {
   "cell_type": "code",
   "execution_count": 173,
   "metadata": {},
   "outputs": [
    {
     "data": {
      "application/vnd.microsoft.datawrangler.viewer.v0+json": {
       "columns": [
        {
         "name": "index",
         "rawType": "int64",
         "type": "integer"
        },
        {
         "name": "age",
         "rawType": "float64",
         "type": "float"
        },
        {
         "name": "sex",
         "rawType": "float64",
         "type": "float"
        },
        {
         "name": "bmi",
         "rawType": "float64",
         "type": "float"
        },
        {
         "name": "bp",
         "rawType": "float64",
         "type": "float"
        },
        {
         "name": "s1",
         "rawType": "float64",
         "type": "float"
        },
        {
         "name": "s2",
         "rawType": "float64",
         "type": "float"
        },
        {
         "name": "s3",
         "rawType": "float64",
         "type": "float"
        },
        {
         "name": "s4",
         "rawType": "float64",
         "type": "float"
        },
        {
         "name": "s5",
         "rawType": "float64",
         "type": "float"
        },
        {
         "name": "s6",
         "rawType": "float64",
         "type": "float"
        }
       ],
       "ref": "1e7734ff-c11b-41e9-bf8f-05095ba64224",
       "rows": [
        [
         "0",
         "0.038075906433423026",
         "0.05068011873981862",
         "0.061696206518683294",
         "0.0218723855140367",
         "-0.04422349842444599",
         "-0.03482076283769895",
         "-0.04340084565202491",
         "-0.002592261998183278",
         "0.019907486170462722",
         "-0.01764612515980379"
        ],
        [
         "1",
         "-0.0018820165277906047",
         "-0.044641636506989144",
         "-0.051474061238800654",
         "-0.02632752814785296",
         "-0.008448724111216851",
         "-0.019163339748222204",
         "0.07441156407875721",
         "-0.03949338287409329",
         "-0.0683315470939731",
         "-0.092204049626824"
        ],
        [
         "2",
         "0.08529890629667548",
         "0.05068011873981862",
         "0.04445121333659049",
         "-0.00567042229275739",
         "-0.04559945128264711",
         "-0.03419446591411989",
         "-0.03235593223976409",
         "-0.002592261998183278",
         "0.002861309289833047",
         "-0.025930338989472702"
        ],
        [
         "3",
         "-0.0890629393522567",
         "-0.044641636506989144",
         "-0.011595014505211082",
         "-0.03665608107540074",
         "0.01219056876179996",
         "0.02499059336410222",
         "-0.036037570043851025",
         "0.03430885887772673",
         "0.022687744966501246",
         "-0.009361911330134878"
        ],
        [
         "4",
         "0.005383060374248237",
         "-0.044641636506989144",
         "-0.03638469220446948",
         "0.0218723855140367",
         "0.003934851612593237",
         "0.015596139510416171",
         "0.008142083605192267",
         "-0.002592261998183278",
         "-0.03198763948805312",
         "-0.04664087356364498"
        ]
       ],
       "shape": {
        "columns": 10,
        "rows": 5
       }
      },
      "text/html": [
       "<div>\n",
       "<style scoped>\n",
       "    .dataframe tbody tr th:only-of-type {\n",
       "        vertical-align: middle;\n",
       "    }\n",
       "\n",
       "    .dataframe tbody tr th {\n",
       "        vertical-align: top;\n",
       "    }\n",
       "\n",
       "    .dataframe thead th {\n",
       "        text-align: right;\n",
       "    }\n",
       "</style>\n",
       "<table border=\"1\" class=\"dataframe\">\n",
       "  <thead>\n",
       "    <tr style=\"text-align: right;\">\n",
       "      <th></th>\n",
       "      <th>age</th>\n",
       "      <th>sex</th>\n",
       "      <th>bmi</th>\n",
       "      <th>bp</th>\n",
       "      <th>s1</th>\n",
       "      <th>s2</th>\n",
       "      <th>s3</th>\n",
       "      <th>s4</th>\n",
       "      <th>s5</th>\n",
       "      <th>s6</th>\n",
       "    </tr>\n",
       "  </thead>\n",
       "  <tbody>\n",
       "    <tr>\n",
       "      <th>0</th>\n",
       "      <td>0.038076</td>\n",
       "      <td>0.050680</td>\n",
       "      <td>0.061696</td>\n",
       "      <td>0.021872</td>\n",
       "      <td>-0.044223</td>\n",
       "      <td>-0.034821</td>\n",
       "      <td>-0.043401</td>\n",
       "      <td>-0.002592</td>\n",
       "      <td>0.019907</td>\n",
       "      <td>-0.017646</td>\n",
       "    </tr>\n",
       "    <tr>\n",
       "      <th>1</th>\n",
       "      <td>-0.001882</td>\n",
       "      <td>-0.044642</td>\n",
       "      <td>-0.051474</td>\n",
       "      <td>-0.026328</td>\n",
       "      <td>-0.008449</td>\n",
       "      <td>-0.019163</td>\n",
       "      <td>0.074412</td>\n",
       "      <td>-0.039493</td>\n",
       "      <td>-0.068332</td>\n",
       "      <td>-0.092204</td>\n",
       "    </tr>\n",
       "    <tr>\n",
       "      <th>2</th>\n",
       "      <td>0.085299</td>\n",
       "      <td>0.050680</td>\n",
       "      <td>0.044451</td>\n",
       "      <td>-0.005670</td>\n",
       "      <td>-0.045599</td>\n",
       "      <td>-0.034194</td>\n",
       "      <td>-0.032356</td>\n",
       "      <td>-0.002592</td>\n",
       "      <td>0.002861</td>\n",
       "      <td>-0.025930</td>\n",
       "    </tr>\n",
       "    <tr>\n",
       "      <th>3</th>\n",
       "      <td>-0.089063</td>\n",
       "      <td>-0.044642</td>\n",
       "      <td>-0.011595</td>\n",
       "      <td>-0.036656</td>\n",
       "      <td>0.012191</td>\n",
       "      <td>0.024991</td>\n",
       "      <td>-0.036038</td>\n",
       "      <td>0.034309</td>\n",
       "      <td>0.022688</td>\n",
       "      <td>-0.009362</td>\n",
       "    </tr>\n",
       "    <tr>\n",
       "      <th>4</th>\n",
       "      <td>0.005383</td>\n",
       "      <td>-0.044642</td>\n",
       "      <td>-0.036385</td>\n",
       "      <td>0.021872</td>\n",
       "      <td>0.003935</td>\n",
       "      <td>0.015596</td>\n",
       "      <td>0.008142</td>\n",
       "      <td>-0.002592</td>\n",
       "      <td>-0.031988</td>\n",
       "      <td>-0.046641</td>\n",
       "    </tr>\n",
       "  </tbody>\n",
       "</table>\n",
       "</div>"
      ],
      "text/plain": [
       "        age       sex       bmi        bp        s1        s2        s3  \\\n",
       "0  0.038076  0.050680  0.061696  0.021872 -0.044223 -0.034821 -0.043401   \n",
       "1 -0.001882 -0.044642 -0.051474 -0.026328 -0.008449 -0.019163  0.074412   \n",
       "2  0.085299  0.050680  0.044451 -0.005670 -0.045599 -0.034194 -0.032356   \n",
       "3 -0.089063 -0.044642 -0.011595 -0.036656  0.012191  0.024991 -0.036038   \n",
       "4  0.005383 -0.044642 -0.036385  0.021872  0.003935  0.015596  0.008142   \n",
       "\n",
       "         s4        s5        s6  \n",
       "0 -0.002592  0.019907 -0.017646  \n",
       "1 -0.039493 -0.068332 -0.092204  \n",
       "2 -0.002592  0.002861 -0.025930  \n",
       "3  0.034309  0.022688 -0.009362  \n",
       "4 -0.002592 -0.031988 -0.046641  "
      ]
     },
     "execution_count": 173,
     "metadata": {},
     "output_type": "execute_result"
    }
   ],
   "source": [
    "from sklearn.datasets import load_diabetes\n",
    "\n",
    "# Load the dataset\n",
    "diabetics = load_diabetes()\n",
    "\n",
    "# Create the dataframe\n",
    "column_name = diabetics.feature_names\n",
    "df_diabetics = pd.DataFrame(diabetics.data)\n",
    "df_diabetics.columns = column_name\n",
    "df_diabetics.head()"
   ]
  },
  {
   "cell_type": "markdown",
   "metadata": {},
   "source": [
    "### Outliers Visualization"
   ]
  },
  {
   "cell_type": "markdown",
   "metadata": {},
   "source": [
    "#### Visualizing Outliers Using Box Plot\n",
    "It captures the summary of the data effectively and efficiently with only a simple box and whiskers. Boxplot summarizes sample data using 25th, 50th, and 75th percentiles. One can just get insights(quartiles, median, and outliers) into the dataset by just looking at its boxplot."
   ]
  },
  {
   "cell_type": "code",
   "execution_count": 174,
   "metadata": {},
   "outputs": [
    {
     "data": {
      "text/plain": [
       "<Axes: ylabel='bmi'>"
      ]
     },
     "execution_count": 174,
     "metadata": {},
     "output_type": "execute_result"
    },
    {
     "data": {
      "image/png": "[encoded data removed]",
      "text/plain": [
       "<Figure size 640x480 with 1 Axes>"
      ]
     },
     "metadata": {},
     "output_type": "display_data"
    }
   ],
   "source": [
    "# Box Plot for bmi\n",
    "sns.boxplot(df_diabetics['bmi'])"
   ]
  },
  {
   "cell_type": "markdown",
   "metadata": {},
   "source": [
    "#### Visualizing Outliers Using ScatterPlot.\n",
    "\n",
    "It is used when you have paired numerical data and when your dependent variable has multiple values for each reading independent variable, or when trying to determine the relationship between the two variables. In the process of utilizing the scatter plot, one can also use it for outlier detection."
   ]
  },
  {
   "cell_type": "code",
   "execution_count": 175,
   "metadata": {},
   "outputs": [
    {
     "data": {
      "image/png": "[encoded data removed]",
      "text/plain": [
       "<Figure size 600x400 with 1 Axes>"
      ]
     },
     "metadata": {},
     "output_type": "display_data"
    }
   ],
   "source": [
    "fig, ax = plt.subplots(figsize=(6, 4))\n",
    "ax.scatter(df_diabetics['bmi'], df_diabetics['bp'])\n",
    "ax.set_xlabel('(body mass index of people)')\n",
    "ax.set_ylabel('(bp of the people )')\n",
    "plt.show()"
   ]
  },
  {
   "cell_type": "markdown",
   "metadata": {},
   "source": [
    "#### Z-Score:\n",
    "Z- Score is also called a standard score. This value/score helps to understand that how far is the data point from the mean. And after setting up a threshold value one can utilize z score values of data points to define the outliers.\n",
    "<br>\n",
    "Zscore = (data_point -mean) / std. deviation\n",
    "\n"
   ]
  },
  {
   "cell_type": "code",
   "execution_count": 176,
   "metadata": {},
   "outputs": [
    {
     "data": {
      "application/vnd.microsoft.datawrangler.viewer.v0+json": {
       "columns": [
        {
         "name": "index",
         "rawType": "int64",
         "type": "integer"
        },
        {
         "name": "z-score-age",
         "rawType": "float64",
         "type": "float"
        }
       ],
       "ref": "c3e01f9a-6542-4816-850e-26b2c5672d6c",
       "rows": [
        [
         "0",
         "0.8005000909564212"
        ],
        [
         "1",
         "0.03956713162724377"
        ],
        [
         "2",
         "1.7933068085552974"
        ],
        [
         "3",
         "1.8724410718097853"
        ],
        [
         "4",
         "0.11317236338796802"
        ]
       ],
       "shape": {
        "columns": 1,
        "rows": 5
       }
      },
      "text/plain": [
       "0    0.800500\n",
       "1    0.039567\n",
       "2    1.793307\n",
       "3    1.872441\n",
       "4    0.113172\n",
       "Name: z-score-age, dtype: float64"
      ]
     },
     "execution_count": 176,
     "metadata": {},
     "output_type": "execute_result"
    }
   ],
   "source": [
    "# calculate the z-score for age column and put it to column z-score-age\n",
    "from scipy import stats\n",
    "\n",
    "df_diabetics['z-score-age'] = np.abs(stats.zscore(df_diabetics['age']))\n",
    "df_diabetics['z-score-age'].head()"
   ]
  },
  {
   "cell_type": "markdown",
   "metadata": {},
   "source": [
    "Now to define an outlier, threshold value is chosen which is generally 3.0. As 99.7% of the data points lie between +/- 3 standard deviation (using Gaussian Distribution approach).\n",
    "\n",
    "Rows where Z value is greater than 2"
   ]
  },
  {
   "cell_type": "code",
   "execution_count": 177,
   "metadata": {},
   "outputs": [
    {
     "data": {
      "application/vnd.microsoft.datawrangler.viewer.v0+json": {
       "columns": [
        {
         "name": "index",
         "rawType": "int64",
         "type": "integer"
        },
        {
         "name": "age",
         "rawType": "float64",
         "type": "float"
        },
        {
         "name": "sex",
         "rawType": "float64",
         "type": "float"
        },
        {
         "name": "bmi",
         "rawType": "float64",
         "type": "float"
        },
        {
         "name": "bp",
         "rawType": "float64",
         "type": "float"
        },
        {
         "name": "s1",
         "rawType": "float64",
         "type": "float"
        },
        {
         "name": "s2",
         "rawType": "float64",
         "type": "float"
        },
        {
         "name": "s3",
         "rawType": "float64",
         "type": "float"
        },
        {
         "name": "s4",
         "rawType": "float64",
         "type": "float"
        },
        {
         "name": "s5",
         "rawType": "float64",
         "type": "float"
        },
        {
         "name": "s6",
         "rawType": "float64",
         "type": "float"
        },
        {
         "name": "z-score-age",
         "rawType": "float64",
         "type": "float"
        }
       ],
       "ref": "b81ed393-08c2-48c7-ac58-07fa09ae57fb",
       "rows": [
        [
         "10",
         "-0.09632801625429555",
         "-0.044641636506989144",
         "-0.08380842345522464",
         "0.008100981610639655",
         "-0.10338947132709418",
         "-0.09056118903623617",
         "-0.01394774321932938",
         "-0.0763945037500033",
         "-0.06291687914365544",
         "-0.03421455281914162",
         "2.025180566824997"
        ],
        [
         "26",
         "-0.1072256316073538",
         "-0.044641636506989144",
         "-0.07734155101193986",
         "-0.02632752814785296",
         "-0.08962994274508297",
         "-0.09619786134844781",
         "0.026550272625626974",
         "-0.0763945037500033",
         "-0.042570854118219384",
         "-0.005219804415300423",
         "2.2542898093478145"
        ],
        [
         "41",
         "-0.09996055470531495",
         "-0.044641636506989144",
         "-0.06764124234701265",
         "-0.10895595156823522",
         "-0.07449446130487065",
         "-0.07271172671423268",
         "0.01550535921336615",
         "-0.03949338287409329",
         "-0.049872451808799324",
         "-0.009361911330134878",
         "2.1015503143326026"
        ],
        [
         "77",
         "-0.09632801625429555",
         "-0.044641636506989144",
         "-0.03638469220446948",
         "-0.07452744180974262",
         "-0.038719686991641515",
         "-0.02761834821653966",
         "0.01550535921336615",
         "-0.03949338287409329",
         "-0.07409260794346935",
         "-0.0010776975004659671",
         "2.025180566824997"
        ],
        [
         "79",
         "-0.10359309315633439",
         "-0.044641636506989144",
         "-0.03746250427835029",
         "-0.02632752814785296",
         "0.0025588987543921156",
         "0.019980217975469634",
         "0.01182372140927921",
         "-0.002592261998183278",
         "-0.0683315470939731",
         "-0.025930338989472702",
         "2.177920061840209"
        ]
       ],
       "shape": {
        "columns": 11,
        "rows": 5
       }
      },
      "text/html": [
       "<div>\n",
       "<style scoped>\n",
       "    .dataframe tbody tr th:only-of-type {\n",
       "        vertical-align: middle;\n",
       "    }\n",
       "\n",
       "    .dataframe tbody tr th {\n",
       "        vertical-align: top;\n",
       "    }\n",
       "\n",
       "    .dataframe thead th {\n",
       "        text-align: right;\n",
       "    }\n",
       "</style>\n",
       "<table border=\"1\" class=\"dataframe\">\n",
       "  <thead>\n",
       "    <tr style=\"text-align: right;\">\n",
       "      <th></th>\n",
       "      <th>age</th>\n",
       "      <th>sex</th>\n",
       "      <th>bmi</th>\n",
       "      <th>bp</th>\n",
       "      <th>s1</th>\n",
       "      <th>s2</th>\n",
       "      <th>s3</th>\n",
       "      <th>s4</th>\n",
       "      <th>s5</th>\n",
       "      <th>s6</th>\n",
       "      <th>z-score-age</th>\n",
       "    </tr>\n",
       "  </thead>\n",
       "  <tbody>\n",
       "    <tr>\n",
       "      <th>10</th>\n",
       "      <td>-0.096328</td>\n",
       "      <td>-0.044642</td>\n",
       "      <td>-0.083808</td>\n",
       "      <td>0.008101</td>\n",
       "      <td>-0.103389</td>\n",
       "      <td>-0.090561</td>\n",
       "      <td>-0.013948</td>\n",
       "      <td>-0.076395</td>\n",
       "      <td>-0.062917</td>\n",
       "      <td>-0.034215</td>\n",
       "      <td>2.025181</td>\n",
       "    </tr>\n",
       "    <tr>\n",
       "      <th>26</th>\n",
       "      <td>-0.107226</td>\n",
       "      <td>-0.044642</td>\n",
       "      <td>-0.077342</td>\n",
       "      <td>-0.026328</td>\n",
       "      <td>-0.089630</td>\n",
       "      <td>-0.096198</td>\n",
       "      <td>0.026550</td>\n",
       "      <td>-0.076395</td>\n",
       "      <td>-0.042571</td>\n",
       "      <td>-0.005220</td>\n",
       "      <td>2.254290</td>\n",
       "    </tr>\n",
       "    <tr>\n",
       "      <th>41</th>\n",
       "      <td>-0.099961</td>\n",
       "      <td>-0.044642</td>\n",
       "      <td>-0.067641</td>\n",
       "      <td>-0.108956</td>\n",
       "      <td>-0.074494</td>\n",
       "      <td>-0.072712</td>\n",
       "      <td>0.015505</td>\n",
       "      <td>-0.039493</td>\n",
       "      <td>-0.049872</td>\n",
       "      <td>-0.009362</td>\n",
       "      <td>2.101550</td>\n",
       "    </tr>\n",
       "    <tr>\n",
       "      <th>77</th>\n",
       "      <td>-0.096328</td>\n",
       "      <td>-0.044642</td>\n",
       "      <td>-0.036385</td>\n",
       "      <td>-0.074527</td>\n",
       "      <td>-0.038720</td>\n",
       "      <td>-0.027618</td>\n",
       "      <td>0.015505</td>\n",
       "      <td>-0.039493</td>\n",
       "      <td>-0.074093</td>\n",
       "      <td>-0.001078</td>\n",
       "      <td>2.025181</td>\n",
       "    </tr>\n",
       "    <tr>\n",
       "      <th>79</th>\n",
       "      <td>-0.103593</td>\n",
       "      <td>-0.044642</td>\n",
       "      <td>-0.037463</td>\n",
       "      <td>-0.026328</td>\n",
       "      <td>0.002559</td>\n",
       "      <td>0.019980</td>\n",
       "      <td>0.011824</td>\n",
       "      <td>-0.002592</td>\n",
       "      <td>-0.068332</td>\n",
       "      <td>-0.025930</td>\n",
       "      <td>2.177920</td>\n",
       "    </tr>\n",
       "  </tbody>\n",
       "</table>\n",
       "</div>"
      ],
      "text/plain": [
       "         age       sex       bmi        bp        s1        s2        s3  \\\n",
       "10 -0.096328 -0.044642 -0.083808  0.008101 -0.103389 -0.090561 -0.013948   \n",
       "26 -0.107226 -0.044642 -0.077342 -0.026328 -0.089630 -0.096198  0.026550   \n",
       "41 -0.099961 -0.044642 -0.067641 -0.108956 -0.074494 -0.072712  0.015505   \n",
       "77 -0.096328 -0.044642 -0.036385 -0.074527 -0.038720 -0.027618  0.015505   \n",
       "79 -0.103593 -0.044642 -0.037463 -0.026328  0.002559  0.019980  0.011824   \n",
       "\n",
       "          s4        s5        s6  z-score-age  \n",
       "10 -0.076395 -0.062917 -0.034215     2.025181  \n",
       "26 -0.076395 -0.042571 -0.005220     2.254290  \n",
       "41 -0.039493 -0.049872 -0.009362     2.101550  \n",
       "77 -0.039493 -0.074093 -0.001078     2.025181  \n",
       "79 -0.002592 -0.068332 -0.025930     2.177920  "
      ]
     },
     "execution_count": 177,
     "metadata": {},
     "output_type": "execute_result"
    }
   ],
   "source": [
    "# filter rows with z-score-age > 2\n",
    "df_diabetics_z_age_bigger_2 = df_diabetics[df_diabetics['z-score-age'] > 2]\n",
    "df_diabetics_z_age_bigger_2.head()"
   ]
  },
  {
   "cell_type": "markdown",
   "metadata": {},
   "source": [
    "#### IQR (Inter-Quartile Range)\n",
    "Inter Quartile Range approach to finding the outliers is the most commonly used and most trusted approach used in the research field. <Br>\n",
    "IQR = Quartile3 - Quartile1"
   ]
  },
  {
   "cell_type": "code",
   "execution_count": 178,
   "metadata": {},
   "outputs": [
    {
     "name": "stdout",
     "output_type": "stream",
     "text": [
      "IQR: 0.06520763046978838\n"
     ]
    }
   ],
   "source": [
    "# calculate the interquartile range (IQR) for the 'bmi' column\n",
    "Q1 = np.percentile(df_diabetics['bmi'], 25, method='midpoint')\n",
    "Q3 = np.percentile(df_diabetics['bmi'], 75, method='midpoint')\n",
    "IQR = Q3 - Q1\n",
    "print(f\"IQR: {IQR}\")"
   ]
  },
  {
   "cell_type": "markdown",
   "metadata": {},
   "source": [
    "To define the outlier base value is defined above and below dataset’s normal range namely Upper and Lower bounds, define the upper and the lower bound (1.5*IQR value is considered) :<br>\n",
    "upper = Q3 + 1.5 * IQR <br>\n",
    "lower = Q1 - 1.5 * IQR <br> "
   ]
  },
  {
   "cell_type": "code",
   "execution_count": 179,
   "metadata": {},
   "outputs": [
    {
     "name": "stdout",
     "output_type": "stream",
     "text": [
      "Upper Bound: 0.12879000811776306\n",
      "Lower Bound: -0.13204051376139045\n"
     ]
    }
   ],
   "source": [
    "# Above Upper bound\n",
    "upper = Q3+1.5*IQR\n",
    "print(\"Upper Bound:\", upper)\n",
    "\n",
    "# Below Lower bound\n",
    "lower = Q1-1.5*IQR\n",
    "print(\"Lower Bound:\", lower)"
   ]
  },
  {
   "cell_type": "markdown",
   "metadata": {},
   "source": [
    "- Removing the outliers:\n",
    "For removing the outlier, one must follow the same process of removing an entry from the dataset using its exact position in the dataset, because in all the above methods of detecting the outliers, end result is the list of all those data items that satisfy the outlier definition according to the method used."
   ]
  },
  {
   "cell_type": "code",
   "execution_count": 180,
   "metadata": {},
   "outputs": [
    {
     "data": {
      "application/vnd.microsoft.datawrangler.viewer.v0+json": {
       "columns": [
        {
         "name": "index",
         "rawType": "int64",
         "type": "integer"
        },
        {
         "name": "age",
         "rawType": "float64",
         "type": "float"
        },
        {
         "name": "sex",
         "rawType": "float64",
         "type": "float"
        },
        {
         "name": "bmi",
         "rawType": "float64",
         "type": "float"
        },
        {
         "name": "bp",
         "rawType": "float64",
         "type": "float"
        },
        {
         "name": "s1",
         "rawType": "float64",
         "type": "float"
        },
        {
         "name": "s2",
         "rawType": "float64",
         "type": "float"
        },
        {
         "name": "s3",
         "rawType": "float64",
         "type": "float"
        },
        {
         "name": "s4",
         "rawType": "float64",
         "type": "float"
        },
        {
         "name": "s5",
         "rawType": "float64",
         "type": "float"
        },
        {
         "name": "s6",
         "rawType": "float64",
         "type": "float"
        },
        {
         "name": "z-score-age",
         "rawType": "float64",
         "type": "float"
        }
       ],
       "ref": "7ddf0d1e-a58b-4335-88cc-8262b1bb1f96",
       "rows": [
        [
         "0",
         "0.038075906433423026",
         "0.05068011873981862",
         "0.061696206518683294",
         "0.0218723855140367",
         "-0.04422349842444599",
         "-0.03482076283769895",
         "-0.04340084565202491",
         "-0.002592261998183278",
         "0.019907486170462722",
         "-0.01764612515980379",
         "0.8005000909564212"
        ],
        [
         "1",
         "-0.0018820165277906047",
         "-0.044641636506989144",
         "-0.051474061238800654",
         "-0.02632752814785296",
         "-0.008448724111216851",
         "-0.019163339748222204",
         "0.07441156407875721",
         "-0.03949338287409329",
         "-0.0683315470939731",
         "-0.092204049626824",
         "0.03956713162724377"
        ],
        [
         "2",
         "0.08529890629667548",
         "0.05068011873981862",
         "0.04445121333659049",
         "-0.00567042229275739",
         "-0.04559945128264711",
         "-0.03419446591411989",
         "-0.03235593223976409",
         "-0.002592261998183278",
         "0.002861309289833047",
         "-0.025930338989472702",
         "1.7933068085552974"
        ],
        [
         "3",
         "-0.0890629393522567",
         "-0.044641636506989144",
         "-0.011595014505211082",
         "-0.03665608107540074",
         "0.01219056876179996",
         "0.02499059336410222",
         "-0.036037570043851025",
         "0.03430885887772673",
         "0.022687744966501246",
         "-0.009361911330134878",
         "1.8724410718097853"
        ],
        [
         "4",
         "0.005383060374248237",
         "-0.044641636506989144",
         "-0.03638469220446948",
         "0.0218723855140367",
         "0.003934851612593237",
         "0.015596139510416171",
         "0.008142083605192267",
         "-0.002592261998183278",
         "-0.03198763948805312",
         "-0.04664087356364498",
         "0.11317236338796802"
        ]
       ],
       "shape": {
        "columns": 11,
        "rows": 5
       }
      },
      "text/html": [
       "<div>\n",
       "<style scoped>\n",
       "    .dataframe tbody tr th:only-of-type {\n",
       "        vertical-align: middle;\n",
       "    }\n",
       "\n",
       "    .dataframe tbody tr th {\n",
       "        vertical-align: top;\n",
       "    }\n",
       "\n",
       "    .dataframe thead th {\n",
       "        text-align: right;\n",
       "    }\n",
       "</style>\n",
       "<table border=\"1\" class=\"dataframe\">\n",
       "  <thead>\n",
       "    <tr style=\"text-align: right;\">\n",
       "      <th></th>\n",
       "      <th>age</th>\n",
       "      <th>sex</th>\n",
       "      <th>bmi</th>\n",
       "      <th>bp</th>\n",
       "      <th>s1</th>\n",
       "      <th>s2</th>\n",
       "      <th>s3</th>\n",
       "      <th>s4</th>\n",
       "      <th>s5</th>\n",
       "      <th>s6</th>\n",
       "      <th>z-score-age</th>\n",
       "    </tr>\n",
       "  </thead>\n",
       "  <tbody>\n",
       "    <tr>\n",
       "      <th>0</th>\n",
       "      <td>0.038076</td>\n",
       "      <td>0.050680</td>\n",
       "      <td>0.061696</td>\n",
       "      <td>0.021872</td>\n",
       "      <td>-0.044223</td>\n",
       "      <td>-0.034821</td>\n",
       "      <td>-0.043401</td>\n",
       "      <td>-0.002592</td>\n",
       "      <td>0.019907</td>\n",
       "      <td>-0.017646</td>\n",
       "      <td>0.800500</td>\n",
       "    </tr>\n",
       "    <tr>\n",
       "      <th>1</th>\n",
       "      <td>-0.001882</td>\n",
       "      <td>-0.044642</td>\n",
       "      <td>-0.051474</td>\n",
       "      <td>-0.026328</td>\n",
       "      <td>-0.008449</td>\n",
       "      <td>-0.019163</td>\n",
       "      <td>0.074412</td>\n",
       "      <td>-0.039493</td>\n",
       "      <td>-0.068332</td>\n",
       "      <td>-0.092204</td>\n",
       "      <td>0.039567</td>\n",
       "    </tr>\n",
       "    <tr>\n",
       "      <th>2</th>\n",
       "      <td>0.085299</td>\n",
       "      <td>0.050680</td>\n",
       "      <td>0.044451</td>\n",
       "      <td>-0.005670</td>\n",
       "      <td>-0.045599</td>\n",
       "      <td>-0.034194</td>\n",
       "      <td>-0.032356</td>\n",
       "      <td>-0.002592</td>\n",
       "      <td>0.002861</td>\n",
       "      <td>-0.025930</td>\n",
       "      <td>1.793307</td>\n",
       "    </tr>\n",
       "    <tr>\n",
       "      <th>3</th>\n",
       "      <td>-0.089063</td>\n",
       "      <td>-0.044642</td>\n",
       "      <td>-0.011595</td>\n",
       "      <td>-0.036656</td>\n",
       "      <td>0.012191</td>\n",
       "      <td>0.024991</td>\n",
       "      <td>-0.036038</td>\n",
       "      <td>0.034309</td>\n",
       "      <td>0.022688</td>\n",
       "      <td>-0.009362</td>\n",
       "      <td>1.872441</td>\n",
       "    </tr>\n",
       "    <tr>\n",
       "      <th>4</th>\n",
       "      <td>0.005383</td>\n",
       "      <td>-0.044642</td>\n",
       "      <td>-0.036385</td>\n",
       "      <td>0.021872</td>\n",
       "      <td>0.003935</td>\n",
       "      <td>0.015596</td>\n",
       "      <td>0.008142</td>\n",
       "      <td>-0.002592</td>\n",
       "      <td>-0.031988</td>\n",
       "      <td>-0.046641</td>\n",
       "      <td>0.113172</td>\n",
       "    </tr>\n",
       "  </tbody>\n",
       "</table>\n",
       "</div>"
      ],
      "text/plain": [
       "        age       sex       bmi        bp        s1        s2        s3  \\\n",
       "0  0.038076  0.050680  0.061696  0.021872 -0.044223 -0.034821 -0.043401   \n",
       "1 -0.001882 -0.044642 -0.051474 -0.026328 -0.008449 -0.019163  0.074412   \n",
       "2  0.085299  0.050680  0.044451 -0.005670 -0.045599 -0.034194 -0.032356   \n",
       "3 -0.089063 -0.044642 -0.011595 -0.036656  0.012191  0.024991 -0.036038   \n",
       "4  0.005383 -0.044642 -0.036385  0.021872  0.003935  0.015596  0.008142   \n",
       "\n",
       "         s4        s5        s6  z-score-age  \n",
       "0 -0.002592  0.019907 -0.017646     0.800500  \n",
       "1 -0.039493 -0.068332 -0.092204     0.039567  \n",
       "2 -0.002592  0.002861 -0.025930     1.793307  \n",
       "3  0.034309  0.022688 -0.009362     1.872441  \n",
       "4 -0.002592 -0.031988 -0.046641     0.113172  "
      ]
     },
     "execution_count": 180,
     "metadata": {},
     "output_type": "execute_result"
    }
   ],
   "source": [
    "# create a copy of the dataframe\n",
    "df_diabetes = df_diabetics.copy()\n",
    "# Create arrays of Boolean values indicating the outlier rows\n",
    "upper_array = np.where(df_diabetes['bmi'] >= upper)[0]\n",
    "lower_array = np.where(df_diabetes['bmi'] <= lower)[0]\n",
    "\n",
    "# Removing the outliers\n",
    "df_diabetes.drop(index=upper_array, inplace=True)\n",
    "df_diabetes.drop(index=lower_array, inplace=True)\n",
    "\n",
    "df_diabetes.head()\n"
   ]
  }
 ],
 "metadata": {
  "kernelspec": {
   "display_name": ".venv",
   "language": "python",
   "name": "python3"
  },
  "language_info": {
   "codemirror_mode": {
    "name": "ipython",
    "version": 3
   },
   "file_extension": ".py",
   "mimetype": "text/x-python",
   "name": "python",
   "nbconvert_exporter": "python",
   "pygments_lexer": "ipython3",
   "version": "3.13.3"
  },
  "orig_nbformat": 4
 },
 "nbformat": 4,
 "nbformat_minor": 2
}
